{
 "cells": [
  {
   "cell_type": "markdown",
   "metadata": {},
   "source": [
    "# Olist E-Commerce Website Data Analysis \n",
    "\n",
    "Dataset link: https://www.kaggle.com/olistbr/brazilian-ecommerce"
   ]
  },
  {
   "cell_type": "markdown",
   "metadata": {},
   "source": [
    "## Table of content:\n",
    "### Setting up:\n",
    "* Importing Libraries\n",
    "\n",
    "\n",
    "* Loading the Datasets and Data Cleaning\n",
    "\n",
    "### Visualization and Data Insights:\n",
    "\n",
    "\n",
    "\n",
    "* Boxplot For The Product Weights and Freight Value (Univariable)\n",
    "\n",
    "\n",
    "* General Exploration Histogram Over All Dataframe Features (Univariable)\n",
    "\n",
    "\n",
    "* What Is The Most Frequent Payment Type ? (Univariable)\n",
    "\n",
    "\n",
    "* Payment Value Distribution Per Customer (Univariable)\n",
    "\n",
    "\n",
    "* Freight Value Vs. Product Weight Scatterplot (Bivariable)\n",
    "\n",
    "\n",
    "* What Is The Most Frequent Customer State ? (Bivariable)\n",
    "\n",
    "\n",
    "* What Is The Most In Demand Product Category ? (Bivariable)\n",
    "\n",
    "\n",
    "* What I The Most Highly Rated Product Category ? (Bivariable)\n",
    "\n",
    "\n",
    "* what Is The Nicest Customer State ? (Bivariable)\n",
    "\n",
    "\n",
    "* Payment Vs. Freight value (Bivariable)\n",
    "\n",
    "\n",
    "* Payment Value Vs. Months vs. Year (Multivariable)\n",
    "\n",
    "\n",
    "* Correlogram of Olist Master Dataframe (Multivariable)\n",
    "\n",
    "\n",
    "\n",
    "### Machine Learning Application\n",
    "\n",
    "* Clustering Customers Based On Review Rating and Purchase Power (Unsupervised Learning)\n"
   ]
  },
  {
   "cell_type": "markdown",
   "metadata": {},
   "source": [
    "### Importing Libraries"
   ]
  },
  {
   "cell_type": "code",
   "execution_count": 1,
   "metadata": {},
   "outputs": [],
   "source": [
    "import pandas as pd\n",
    "import numpy as np\n",
    "import seaborn as sns\n",
    "import matplotlib.pyplot as plt\n",
    "from sklearn.linear_model import LinearRegression\n",
    "from sklearn.model_selection import train_test_split\n",
    "from sklearn.cluster import KMeans\n",
    "from sklearn.preprocessing import scale\n",
    "from sklearn.preprocessing import normalize\n",
    "from sklearn.metrics import r2_score, confusion_matrix\n",
    "import datetime\n",
    "import random\n",
    "\n",
    "\n",
    "%matplotlib inline\n",
    "sns.set()\n",
    "pd.options.display.max_columns = None"
   ]
  },
  {
   "cell_type": "markdown",
   "metadata": {},
   "source": [
    "### Loading the Data"
   ]
  },
  {
   "cell_type": "markdown",
   "metadata": {},
   "source": [
    "#### customers_dataset"
   ]
  },
  {
   "cell_type": "code",
   "execution_count": 2,
   "metadata": {},
   "outputs": [
    {
     "name": "stdout",
     "output_type": "stream",
     "text": [
      "<class 'pandas.core.frame.DataFrame'>\n",
      "RangeIndex: 99441 entries, 0 to 99440\n",
      "Data columns (total 5 columns):\n",
      "customer_id                 99441 non-null object\n",
      "customer_unique_id          99441 non-null object\n",
      "customer_zip_code_prefix    99441 non-null int64\n",
      "customer_city               99441 non-null object\n",
      "customer_state              99441 non-null object\n",
      "dtypes: int64(1), object(4)\n",
      "memory usage: 3.8+ MB\n"
     ]
    }
   ],
   "source": [
    "# no nulls\n",
    "customers_dataset_df = pd.read_csv('./brazilian-ecommerce/olist_customers_dataset.csv')\n",
    "customers_dataset_df_clean = customers_dataset_df.copy()\n",
    "\n",
    "customers_dataset_df.info()"
   ]
  },
  {
   "cell_type": "code",
   "execution_count": null,
   "metadata": {},
   "outputs": [],
   "source": []
  },
  {
   "cell_type": "markdown",
   "metadata": {},
   "source": [
    "#### geolocation_dataset"
   ]
  },
  {
   "cell_type": "code",
   "execution_count": 3,
   "metadata": {},
   "outputs": [
    {
     "name": "stdout",
     "output_type": "stream",
     "text": [
      "<class 'pandas.core.frame.DataFrame'>\n",
      "RangeIndex: 1000163 entries, 0 to 1000162\n",
      "Data columns (total 5 columns):\n",
      "geolocation_zip_code_prefix    1000163 non-null int64\n",
      "geolocation_lat                1000163 non-null float64\n",
      "geolocation_lng                1000163 non-null float64\n",
      "geolocation_city               1000163 non-null object\n",
      "geolocation_state              1000163 non-null object\n",
      "dtypes: float64(2), int64(1), object(2)\n",
      "memory usage: 38.2+ MB\n"
     ]
    }
   ],
   "source": [
    "# no nulls\n",
    "geolocation_dataset_df = pd.read_csv('./brazilian-ecommerce/olist_geolocation_dataset.csv')\n",
    "geolocation_dataset_df_clean = geolocation_dataset_df.copy()\n",
    "\n",
    "geolocation_dataset_df.info()"
   ]
  },
  {
   "cell_type": "markdown",
   "metadata": {},
   "source": [
    "#### order_items"
   ]
  },
  {
   "cell_type": "code",
   "execution_count": 4,
   "metadata": {},
   "outputs": [
    {
     "name": "stdout",
     "output_type": "stream",
     "text": [
      "<class 'pandas.core.frame.DataFrame'>\n",
      "RangeIndex: 112650 entries, 0 to 112649\n",
      "Data columns (total 7 columns):\n",
      "order_id               112650 non-null object\n",
      "order_item_id          112650 non-null int64\n",
      "product_id             112650 non-null object\n",
      "seller_id              112650 non-null object\n",
      "shipping_limit_date    112650 non-null object\n",
      "price                  112650 non-null float64\n",
      "freight_value          112650 non-null float64\n",
      "dtypes: float64(2), int64(1), object(4)\n",
      "memory usage: 6.0+ MB\n"
     ]
    }
   ],
   "source": [
    "# no nulls\n",
    "\n",
    "order_items_df = pd.read_csv('./brazilian-ecommerce/olist_order_items_dataset.csv')\n",
    "order_items_df_clean = order_items_df.copy()\n",
    "\n",
    "order_items_df.info()"
   ]
  },
  {
   "cell_type": "markdown",
   "metadata": {},
   "source": [
    "#### order_payments"
   ]
  },
  {
   "cell_type": "code",
   "execution_count": 5,
   "metadata": {},
   "outputs": [
    {
     "name": "stdout",
     "output_type": "stream",
     "text": [
      "<class 'pandas.core.frame.DataFrame'>\n",
      "RangeIndex: 103886 entries, 0 to 103885\n",
      "Data columns (total 5 columns):\n",
      "order_id                103886 non-null object\n",
      "payment_sequential      103886 non-null int64\n",
      "payment_type            103886 non-null object\n",
      "payment_installments    103886 non-null int64\n",
      "payment_value           103886 non-null float64\n",
      "dtypes: float64(1), int64(2), object(2)\n",
      "memory usage: 4.0+ MB\n"
     ]
    }
   ],
   "source": [
    "# no nulls\n",
    "order_payments_dataset_df = pd.read_csv('./brazilian-ecommerce/olist_order_payments_dataset.csv')\n",
    "order_payments_dataset_df_clean = order_payments_dataset_df.copy()\n",
    "\n",
    "order_payments_dataset_df.info()"
   ]
  },
  {
   "cell_type": "markdown",
   "metadata": {},
   "source": [
    "#### order_reviews_dataset"
   ]
  },
  {
   "cell_type": "code",
   "execution_count": 6,
   "metadata": {},
   "outputs": [
    {
     "name": "stdout",
     "output_type": "stream",
     "text": [
      "<class 'pandas.core.frame.DataFrame'>\n",
      "RangeIndex: 100000 entries, 0 to 99999\n",
      "Data columns (total 7 columns):\n",
      "review_id                  100000 non-null object\n",
      "order_id                   100000 non-null object\n",
      "review_score               100000 non-null int64\n",
      "review_comment_title       11715 non-null object\n",
      "review_comment_message     41753 non-null object\n",
      "review_creation_date       100000 non-null object\n",
      "review_answer_timestamp    100000 non-null object\n",
      "dtypes: int64(1), object(6)\n",
      "memory usage: 5.3+ MB\n"
     ]
    }
   ],
   "source": [
    "# review_comment_title and review_comment_message fields are empty which is fine, we will not be using them in out analysis so\n",
    "# we will drop the columns in addition to review_creation_date and review_answer_timestamp columns\n",
    "order_reviews_dataset_df = pd.read_csv('./brazilian-ecommerce/olist_order_reviews_dataset.csv')\n",
    "order_reviews_dataset_df_clean = order_reviews_dataset_df.copy()\n",
    "\n",
    "order_reviews_dataset_df.info()"
   ]
  },
  {
   "cell_type": "code",
   "execution_count": 7,
   "metadata": {},
   "outputs": [],
   "source": [
    "order_reviews_dataset_df_clean.drop(columns = ['review_comment_title','review_comment_message','review_creation_date','review_answer_timestamp'], inplace = True)"
   ]
  },
  {
   "cell_type": "code",
   "execution_count": 8,
   "metadata": {
    "scrolled": false
   },
   "outputs": [
    {
     "data": {
      "text/html": [
       "<div>\n",
       "<style scoped>\n",
       "    .dataframe tbody tr th:only-of-type {\n",
       "        vertical-align: middle;\n",
       "    }\n",
       "\n",
       "    .dataframe tbody tr th {\n",
       "        vertical-align: top;\n",
       "    }\n",
       "\n",
       "    .dataframe thead th {\n",
       "        text-align: right;\n",
       "    }\n",
       "</style>\n",
       "<table border=\"1\" class=\"dataframe\">\n",
       "  <thead>\n",
       "    <tr style=\"text-align: right;\">\n",
       "      <th></th>\n",
       "      <th>review_id</th>\n",
       "      <th>order_id</th>\n",
       "      <th>review_score</th>\n",
       "    </tr>\n",
       "  </thead>\n",
       "  <tbody>\n",
       "    <tr>\n",
       "      <td>0</td>\n",
       "      <td>7bc2406110b926393aa56f80a40eba40</td>\n",
       "      <td>73fc7af87114b39712e6da79b0a377eb</td>\n",
       "      <td>4</td>\n",
       "    </tr>\n",
       "    <tr>\n",
       "      <td>1</td>\n",
       "      <td>80e641a11e56f04c1ad469d5645fdfde</td>\n",
       "      <td>a548910a1c6147796b98fdf73dbeba33</td>\n",
       "      <td>5</td>\n",
       "    </tr>\n",
       "    <tr>\n",
       "      <td>2</td>\n",
       "      <td>228ce5500dc1d8e020d8d1322874b6f0</td>\n",
       "      <td>f9e4b658b201a9f2ecdecbb34bed034b</td>\n",
       "      <td>5</td>\n",
       "    </tr>\n",
       "    <tr>\n",
       "      <td>3</td>\n",
       "      <td>e64fb393e7b32834bb789ff8bb30750e</td>\n",
       "      <td>658677c97b385a9be170737859d3511b</td>\n",
       "      <td>5</td>\n",
       "    </tr>\n",
       "    <tr>\n",
       "      <td>4</td>\n",
       "      <td>f7c4243c7fe1938f181bec41a392bdeb</td>\n",
       "      <td>8e6bfb81e283fa7e4f11123a3fb894f1</td>\n",
       "      <td>5</td>\n",
       "    </tr>\n",
       "  </tbody>\n",
       "</table>\n",
       "</div>"
      ],
      "text/plain": [
       "                          review_id                          order_id  \\\n",
       "0  7bc2406110b926393aa56f80a40eba40  73fc7af87114b39712e6da79b0a377eb   \n",
       "1  80e641a11e56f04c1ad469d5645fdfde  a548910a1c6147796b98fdf73dbeba33   \n",
       "2  228ce5500dc1d8e020d8d1322874b6f0  f9e4b658b201a9f2ecdecbb34bed034b   \n",
       "3  e64fb393e7b32834bb789ff8bb30750e  658677c97b385a9be170737859d3511b   \n",
       "4  f7c4243c7fe1938f181bec41a392bdeb  8e6bfb81e283fa7e4f11123a3fb894f1   \n",
       "\n",
       "   review_score  \n",
       "0             4  \n",
       "1             5  \n",
       "2             5  \n",
       "3             5  \n",
       "4             5  "
      ]
     },
     "execution_count": 8,
     "metadata": {},
     "output_type": "execute_result"
    }
   ],
   "source": [
    "order_reviews_dataset_df_clean.head()"
   ]
  },
  {
   "cell_type": "code",
   "execution_count": 9,
   "metadata": {},
   "outputs": [
    {
     "name": "stdout",
     "output_type": "stream",
     "text": [
      "<class 'pandas.core.frame.DataFrame'>\n",
      "RangeIndex: 100000 entries, 0 to 99999\n",
      "Data columns (total 3 columns):\n",
      "review_id       100000 non-null object\n",
      "order_id        100000 non-null object\n",
      "review_score    100000 non-null int64\n",
      "dtypes: int64(1), object(2)\n",
      "memory usage: 2.3+ MB\n"
     ]
    }
   ],
   "source": [
    "order_reviews_dataset_df_clean.info()"
   ]
  },
  {
   "cell_type": "code",
   "execution_count": 10,
   "metadata": {},
   "outputs": [
    {
     "data": {
      "text/html": [
       "<div>\n",
       "<style scoped>\n",
       "    .dataframe tbody tr th:only-of-type {\n",
       "        vertical-align: middle;\n",
       "    }\n",
       "\n",
       "    .dataframe tbody tr th {\n",
       "        vertical-align: top;\n",
       "    }\n",
       "\n",
       "    .dataframe thead th {\n",
       "        text-align: right;\n",
       "    }\n",
       "</style>\n",
       "<table border=\"1\" class=\"dataframe\">\n",
       "  <thead>\n",
       "    <tr style=\"text-align: right;\">\n",
       "      <th></th>\n",
       "      <th>review_score</th>\n",
       "    </tr>\n",
       "  </thead>\n",
       "  <tbody>\n",
       "    <tr>\n",
       "      <td>count</td>\n",
       "      <td>100000.000000</td>\n",
       "    </tr>\n",
       "    <tr>\n",
       "      <td>mean</td>\n",
       "      <td>4.070890</td>\n",
       "    </tr>\n",
       "    <tr>\n",
       "      <td>std</td>\n",
       "      <td>1.359663</td>\n",
       "    </tr>\n",
       "    <tr>\n",
       "      <td>min</td>\n",
       "      <td>1.000000</td>\n",
       "    </tr>\n",
       "    <tr>\n",
       "      <td>25%</td>\n",
       "      <td>4.000000</td>\n",
       "    </tr>\n",
       "    <tr>\n",
       "      <td>50%</td>\n",
       "      <td>5.000000</td>\n",
       "    </tr>\n",
       "    <tr>\n",
       "      <td>75%</td>\n",
       "      <td>5.000000</td>\n",
       "    </tr>\n",
       "    <tr>\n",
       "      <td>max</td>\n",
       "      <td>5.000000</td>\n",
       "    </tr>\n",
       "  </tbody>\n",
       "</table>\n",
       "</div>"
      ],
      "text/plain": [
       "        review_score\n",
       "count  100000.000000\n",
       "mean        4.070890\n",
       "std         1.359663\n",
       "min         1.000000\n",
       "25%         4.000000\n",
       "50%         5.000000\n",
       "75%         5.000000\n",
       "max         5.000000"
      ]
     },
     "execution_count": 10,
     "metadata": {},
     "output_type": "execute_result"
    }
   ],
   "source": [
    "order_reviews_dataset_df_clean.describe()"
   ]
  },
  {
   "cell_type": "markdown",
   "metadata": {},
   "source": [
    "#### orders_dataset"
   ]
  },
  {
   "cell_type": "code",
   "execution_count": 12,
   "metadata": {},
   "outputs": [
    {
     "name": "stdout",
     "output_type": "stream",
     "text": [
      "<class 'pandas.core.frame.DataFrame'>\n",
      "RangeIndex: 99441 entries, 0 to 99440\n",
      "Data columns (total 8 columns):\n",
      "order_id                         99441 non-null object\n",
      "customer_id                      99441 non-null object\n",
      "order_status                     99441 non-null object\n",
      "order_purchase_timestamp         99441 non-null object\n",
      "order_approved_at                99281 non-null object\n",
      "order_delivered_carrier_date     97658 non-null object\n",
      "order_delivered_customer_date    96476 non-null object\n",
      "order_estimated_delivery_date    99441 non-null object\n",
      "dtypes: object(8)\n",
      "memory usage: 6.1+ MB\n"
     ]
    }
   ],
   "source": [
    "# 1.we will be assessing if our estimation on the order_estimated_delivery_date is correct most of the time or not, so in this casr\n",
    "# we will create a df that has only the timestamps and dates and we will be dropping this nan values to do so, that is so we \n",
    "# do not loose data for other operations from the original dataframe.\n",
    "# 2. we need to change  the data type of the dates to datetime.\n",
    "orders_dataset_df = pd.read_csv('./brazilian-ecommerce/olist_orders_dataset.csv')\n",
    "orders_dataset_df_clean = orders_dataset_df.copy()\n",
    "orders_dataset_df.info()\n"
   ]
  },
  {
   "cell_type": "code",
   "execution_count": 13,
   "metadata": {},
   "outputs": [
    {
     "data": {
      "text/html": [
       "<div>\n",
       "<style scoped>\n",
       "    .dataframe tbody tr th:only-of-type {\n",
       "        vertical-align: middle;\n",
       "    }\n",
       "\n",
       "    .dataframe tbody tr th {\n",
       "        vertical-align: top;\n",
       "    }\n",
       "\n",
       "    .dataframe thead th {\n",
       "        text-align: right;\n",
       "    }\n",
       "</style>\n",
       "<table border=\"1\" class=\"dataframe\">\n",
       "  <thead>\n",
       "    <tr style=\"text-align: right;\">\n",
       "      <th></th>\n",
       "      <th>order_id</th>\n",
       "      <th>customer_id</th>\n",
       "      <th>order_status</th>\n",
       "      <th>order_purchase_timestamp</th>\n",
       "      <th>order_approved_at</th>\n",
       "      <th>order_delivered_carrier_date</th>\n",
       "      <th>order_delivered_customer_date</th>\n",
       "      <th>order_estimated_delivery_date</th>\n",
       "    </tr>\n",
       "  </thead>\n",
       "  <tbody>\n",
       "    <tr>\n",
       "      <td>0</td>\n",
       "      <td>e481f51cbdc54678b7cc49136f2d6af7</td>\n",
       "      <td>9ef432eb6251297304e76186b10a928d</td>\n",
       "      <td>delivered</td>\n",
       "      <td>2017-10-02 10:56:33</td>\n",
       "      <td>2017-10-02 11:07:15</td>\n",
       "      <td>2017-10-04 19:55:00</td>\n",
       "      <td>2017-10-10 21:25:13</td>\n",
       "      <td>2017-10-18 00:00:00</td>\n",
       "    </tr>\n",
       "    <tr>\n",
       "      <td>1</td>\n",
       "      <td>53cdb2fc8bc7dce0b6741e2150273451</td>\n",
       "      <td>b0830fb4747a6c6d20dea0b8c802d7ef</td>\n",
       "      <td>delivered</td>\n",
       "      <td>2018-07-24 20:41:37</td>\n",
       "      <td>2018-07-26 03:24:27</td>\n",
       "      <td>2018-07-26 14:31:00</td>\n",
       "      <td>2018-08-07 15:27:45</td>\n",
       "      <td>2018-08-13 00:00:00</td>\n",
       "    </tr>\n",
       "    <tr>\n",
       "      <td>2</td>\n",
       "      <td>47770eb9100c2d0c44946d9cf07ec65d</td>\n",
       "      <td>41ce2a54c0b03bf3443c3d931a367089</td>\n",
       "      <td>delivered</td>\n",
       "      <td>2018-08-08 08:38:49</td>\n",
       "      <td>2018-08-08 08:55:23</td>\n",
       "      <td>2018-08-08 13:50:00</td>\n",
       "      <td>2018-08-17 18:06:29</td>\n",
       "      <td>2018-09-04 00:00:00</td>\n",
       "    </tr>\n",
       "    <tr>\n",
       "      <td>3</td>\n",
       "      <td>949d5b44dbf5de918fe9c16f97b45f8a</td>\n",
       "      <td>f88197465ea7920adcdbec7375364d82</td>\n",
       "      <td>delivered</td>\n",
       "      <td>2017-11-18 19:28:06</td>\n",
       "      <td>2017-11-18 19:45:59</td>\n",
       "      <td>2017-11-22 13:39:59</td>\n",
       "      <td>2017-12-02 00:28:42</td>\n",
       "      <td>2017-12-15 00:00:00</td>\n",
       "    </tr>\n",
       "    <tr>\n",
       "      <td>4</td>\n",
       "      <td>ad21c59c0840e6cb83a9ceb5573f8159</td>\n",
       "      <td>8ab97904e6daea8866dbdbc4fb7aad2c</td>\n",
       "      <td>delivered</td>\n",
       "      <td>2018-02-13 21:18:39</td>\n",
       "      <td>2018-02-13 22:20:29</td>\n",
       "      <td>2018-02-14 19:46:34</td>\n",
       "      <td>2018-02-16 18:17:02</td>\n",
       "      <td>2018-02-26 00:00:00</td>\n",
       "    </tr>\n",
       "  </tbody>\n",
       "</table>\n",
       "</div>"
      ],
      "text/plain": [
       "                           order_id                       customer_id  \\\n",
       "0  e481f51cbdc54678b7cc49136f2d6af7  9ef432eb6251297304e76186b10a928d   \n",
       "1  53cdb2fc8bc7dce0b6741e2150273451  b0830fb4747a6c6d20dea0b8c802d7ef   \n",
       "2  47770eb9100c2d0c44946d9cf07ec65d  41ce2a54c0b03bf3443c3d931a367089   \n",
       "3  949d5b44dbf5de918fe9c16f97b45f8a  f88197465ea7920adcdbec7375364d82   \n",
       "4  ad21c59c0840e6cb83a9ceb5573f8159  8ab97904e6daea8866dbdbc4fb7aad2c   \n",
       "\n",
       "  order_status order_purchase_timestamp    order_approved_at  \\\n",
       "0    delivered      2017-10-02 10:56:33  2017-10-02 11:07:15   \n",
       "1    delivered      2018-07-24 20:41:37  2018-07-26 03:24:27   \n",
       "2    delivered      2018-08-08 08:38:49  2018-08-08 08:55:23   \n",
       "3    delivered      2017-11-18 19:28:06  2017-11-18 19:45:59   \n",
       "4    delivered      2018-02-13 21:18:39  2018-02-13 22:20:29   \n",
       "\n",
       "  order_delivered_carrier_date order_delivered_customer_date  \\\n",
       "0          2017-10-04 19:55:00           2017-10-10 21:25:13   \n",
       "1          2018-07-26 14:31:00           2018-08-07 15:27:45   \n",
       "2          2018-08-08 13:50:00           2018-08-17 18:06:29   \n",
       "3          2017-11-22 13:39:59           2017-12-02 00:28:42   \n",
       "4          2018-02-14 19:46:34           2018-02-16 18:17:02   \n",
       "\n",
       "  order_estimated_delivery_date  \n",
       "0           2017-10-18 00:00:00  \n",
       "1           2018-08-13 00:00:00  \n",
       "2           2018-09-04 00:00:00  \n",
       "3           2017-12-15 00:00:00  \n",
       "4           2018-02-26 00:00:00  "
      ]
     },
     "execution_count": 13,
     "metadata": {},
     "output_type": "execute_result"
    }
   ],
   "source": [
    "orders_dataset_df_clean.head()"
   ]
  },
  {
   "cell_type": "code",
   "execution_count": 14,
   "metadata": {},
   "outputs": [
    {
     "data": {
      "text/html": [
       "<div>\n",
       "<style scoped>\n",
       "    .dataframe tbody tr th:only-of-type {\n",
       "        vertical-align: middle;\n",
       "    }\n",
       "\n",
       "    .dataframe tbody tr th {\n",
       "        vertical-align: top;\n",
       "    }\n",
       "\n",
       "    .dataframe thead th {\n",
       "        text-align: right;\n",
       "    }\n",
       "</style>\n",
       "<table border=\"1\" class=\"dataframe\">\n",
       "  <thead>\n",
       "    <tr style=\"text-align: right;\">\n",
       "      <th></th>\n",
       "      <th>order_id</th>\n",
       "      <th>customer_id</th>\n",
       "      <th>order_status</th>\n",
       "      <th>order_purchase_timestamp</th>\n",
       "      <th>order_approved_at</th>\n",
       "      <th>order_delivered_carrier_date</th>\n",
       "      <th>order_delivered_customer_date</th>\n",
       "      <th>order_estimated_delivery_date</th>\n",
       "    </tr>\n",
       "  </thead>\n",
       "  <tbody>\n",
       "    <tr>\n",
       "      <td>0</td>\n",
       "      <td>e481f51cbdc54678b7cc49136f2d6af7</td>\n",
       "      <td>9ef432eb6251297304e76186b10a928d</td>\n",
       "      <td>delivered</td>\n",
       "      <td>2017-10-02 10:56:33</td>\n",
       "      <td>2017-10-02 11:07:15</td>\n",
       "      <td>2017-10-04 19:55:00</td>\n",
       "      <td>2017-10-10 21:25:13</td>\n",
       "      <td>2017-10-18</td>\n",
       "    </tr>\n",
       "    <tr>\n",
       "      <td>1</td>\n",
       "      <td>53cdb2fc8bc7dce0b6741e2150273451</td>\n",
       "      <td>b0830fb4747a6c6d20dea0b8c802d7ef</td>\n",
       "      <td>delivered</td>\n",
       "      <td>2018-07-24 20:41:37</td>\n",
       "      <td>2018-07-26 03:24:27</td>\n",
       "      <td>2018-07-26 14:31:00</td>\n",
       "      <td>2018-08-07 15:27:45</td>\n",
       "      <td>2018-08-13</td>\n",
       "    </tr>\n",
       "    <tr>\n",
       "      <td>2</td>\n",
       "      <td>47770eb9100c2d0c44946d9cf07ec65d</td>\n",
       "      <td>41ce2a54c0b03bf3443c3d931a367089</td>\n",
       "      <td>delivered</td>\n",
       "      <td>2018-08-08 08:38:49</td>\n",
       "      <td>2018-08-08 08:55:23</td>\n",
       "      <td>2018-08-08 13:50:00</td>\n",
       "      <td>2018-08-17 18:06:29</td>\n",
       "      <td>2018-09-04</td>\n",
       "    </tr>\n",
       "    <tr>\n",
       "      <td>3</td>\n",
       "      <td>949d5b44dbf5de918fe9c16f97b45f8a</td>\n",
       "      <td>f88197465ea7920adcdbec7375364d82</td>\n",
       "      <td>delivered</td>\n",
       "      <td>2017-11-18 19:28:06</td>\n",
       "      <td>2017-11-18 19:45:59</td>\n",
       "      <td>2017-11-22 13:39:59</td>\n",
       "      <td>2017-12-02 00:28:42</td>\n",
       "      <td>2017-12-15</td>\n",
       "    </tr>\n",
       "    <tr>\n",
       "      <td>4</td>\n",
       "      <td>ad21c59c0840e6cb83a9ceb5573f8159</td>\n",
       "      <td>8ab97904e6daea8866dbdbc4fb7aad2c</td>\n",
       "      <td>delivered</td>\n",
       "      <td>2018-02-13 21:18:39</td>\n",
       "      <td>2018-02-13 22:20:29</td>\n",
       "      <td>2018-02-14 19:46:34</td>\n",
       "      <td>2018-02-16 18:17:02</td>\n",
       "      <td>2018-02-26</td>\n",
       "    </tr>\n",
       "  </tbody>\n",
       "</table>\n",
       "</div>"
      ],
      "text/plain": [
       "                           order_id                       customer_id  \\\n",
       "0  e481f51cbdc54678b7cc49136f2d6af7  9ef432eb6251297304e76186b10a928d   \n",
       "1  53cdb2fc8bc7dce0b6741e2150273451  b0830fb4747a6c6d20dea0b8c802d7ef   \n",
       "2  47770eb9100c2d0c44946d9cf07ec65d  41ce2a54c0b03bf3443c3d931a367089   \n",
       "3  949d5b44dbf5de918fe9c16f97b45f8a  f88197465ea7920adcdbec7375364d82   \n",
       "4  ad21c59c0840e6cb83a9ceb5573f8159  8ab97904e6daea8866dbdbc4fb7aad2c   \n",
       "\n",
       "  order_status order_purchase_timestamp   order_approved_at  \\\n",
       "0    delivered      2017-10-02 10:56:33 2017-10-02 11:07:15   \n",
       "1    delivered      2018-07-24 20:41:37 2018-07-26 03:24:27   \n",
       "2    delivered      2018-08-08 08:38:49 2018-08-08 08:55:23   \n",
       "3    delivered      2017-11-18 19:28:06 2017-11-18 19:45:59   \n",
       "4    delivered      2018-02-13 21:18:39 2018-02-13 22:20:29   \n",
       "\n",
       "  order_delivered_carrier_date order_delivered_customer_date  \\\n",
       "0          2017-10-04 19:55:00           2017-10-10 21:25:13   \n",
       "1          2018-07-26 14:31:00           2018-08-07 15:27:45   \n",
       "2          2018-08-08 13:50:00           2018-08-17 18:06:29   \n",
       "3          2017-11-22 13:39:59           2017-12-02 00:28:42   \n",
       "4          2018-02-14 19:46:34           2018-02-16 18:17:02   \n",
       "\n",
       "  order_estimated_delivery_date  \n",
       "0                    2017-10-18  \n",
       "1                    2018-08-13  \n",
       "2                    2018-09-04  \n",
       "3                    2017-12-15  \n",
       "4                    2018-02-26  "
      ]
     },
     "execution_count": 14,
     "metadata": {},
     "output_type": "execute_result"
    }
   ],
   "source": [
    "# ['order_purchase_timestamp', 'order_approved_at', 'order_delivered_carrier_date', 'order_delivered_customer_date', 'order_estimated_delivery_date']\n",
    "order_datetime_list = ['order_purchase_timestamp', 'order_approved_at',\\\n",
    "                       'order_delivered_carrier_date', 'order_delivered_customer_date',\\\n",
    "                       'order_estimated_delivery_date']\n",
    "\n",
    "\n",
    "orders_dataset_df_clean[order_datetime_list] = orders_dataset_df_clean[order_datetime_list].apply(pd.to_datetime, errors = 'coerce')\n",
    "orders_dataset_df_clean.head()"
   ]
  },
  {
   "cell_type": "code",
   "execution_count": 15,
   "metadata": {},
   "outputs": [
    {
     "name": "stdout",
     "output_type": "stream",
     "text": [
      "<class 'pandas.core.frame.DataFrame'>\n",
      "RangeIndex: 99441 entries, 0 to 99440\n",
      "Data columns (total 8 columns):\n",
      "order_id                         99441 non-null object\n",
      "customer_id                      99441 non-null object\n",
      "order_status                     99441 non-null object\n",
      "order_purchase_timestamp         99441 non-null datetime64[ns]\n",
      "order_approved_at                99281 non-null datetime64[ns]\n",
      "order_delivered_carrier_date     97658 non-null datetime64[ns]\n",
      "order_delivered_customer_date    96476 non-null datetime64[ns]\n",
      "order_estimated_delivery_date    99441 non-null datetime64[ns]\n",
      "dtypes: datetime64[ns](5), object(3)\n",
      "memory usage: 6.1+ MB\n"
     ]
    }
   ],
   "source": [
    "# testing\n",
    "orders_dataset_df_clean.info()"
   ]
  },
  {
   "cell_type": "code",
   "execution_count": 16,
   "metadata": {},
   "outputs": [
    {
     "data": {
      "text/plain": [
       "array(['delivered', 'invoiced', 'shipped', 'processing', 'unavailable',\n",
       "       'canceled', 'created', 'approved'], dtype=object)"
      ]
     },
     "execution_count": 16,
     "metadata": {},
     "output_type": "execute_result"
    }
   ],
   "source": [
    "# checking valid values for order_status\n",
    "orders_dataset_df_clean.order_status.unique()"
   ]
  },
  {
   "cell_type": "code",
   "execution_count": 17,
   "metadata": {},
   "outputs": [
    {
     "data": {
      "text/plain": [
       "order_id                          0\n",
       "customer_id                       0\n",
       "order_status                      0\n",
       "order_purchase_timestamp          0\n",
       "order_approved_at                14\n",
       "order_delivered_carrier_date      2\n",
       "order_delivered_customer_date     8\n",
       "order_estimated_delivery_date     0\n",
       "dtype: int64"
      ]
     },
     "execution_count": 17,
     "metadata": {},
     "output_type": "execute_result"
    }
   ],
   "source": [
    "# checking if for the delivered items we have the all the timings, the invoiced only can have nan values it is fine for the dates variables.\n",
    "# we can see that we still have missing dates for already delivered orders, we can investigate closely in the company to see why we are missing these dates.\n",
    "\n",
    "orders_dataset_df_clean.query(\"order_status in 'delivered'\").isnull().sum()"
   ]
  },
  {
   "cell_type": "code",
   "execution_count": 18,
   "metadata": {},
   "outputs": [],
   "source": [
    "# getting the indexes of the columns that have a delivered order_status and a null order_approved_at because it does not make sense\n",
    "delivered_and_not_approved_indexes = orders_dataset_df_clean[orders_dataset_df_clean['order_approved_at'].isnull()].query(\"order_status in 'delivered'\").index"
   ]
  },
  {
   "cell_type": "code",
   "execution_count": 19,
   "metadata": {},
   "outputs": [],
   "source": [
    "orders_dataset_df_clean.drop(inplace = True, index = delivered_and_not_approved_indexes)"
   ]
  },
  {
   "cell_type": "code",
   "execution_count": 20,
   "metadata": {},
   "outputs": [
    {
     "data": {
      "text/plain": [
       "order_id                         0\n",
       "customer_id                      0\n",
       "order_status                     0\n",
       "order_purchase_timestamp         0\n",
       "order_approved_at                0\n",
       "order_delivered_carrier_date     2\n",
       "order_delivered_customer_date    8\n",
       "order_estimated_delivery_date    0\n",
       "dtype: int64"
      ]
     },
     "execution_count": 20,
     "metadata": {},
     "output_type": "execute_result"
    }
   ],
   "source": [
    "orders_dataset_df_clean.query(\"order_status in 'delivered'\").isnull().sum()"
   ]
  },
  {
   "cell_type": "code",
   "execution_count": null,
   "metadata": {},
   "outputs": [],
   "source": []
  },
  {
   "cell_type": "markdown",
   "metadata": {},
   "source": [
    "#### products_dataset"
   ]
  },
  {
   "cell_type": "code",
   "execution_count": 21,
   "metadata": {
    "scrolled": false
   },
   "outputs": [
    {
     "name": "stdout",
     "output_type": "stream",
     "text": [
      "<class 'pandas.core.frame.DataFrame'>\n",
      "RangeIndex: 32951 entries, 0 to 32950\n",
      "Data columns (total 9 columns):\n",
      "product_id                    32951 non-null object\n",
      "product_category_name         32341 non-null object\n",
      "product_name_lenght           32341 non-null float64\n",
      "product_description_lenght    32341 non-null float64\n",
      "product_photos_qty            32341 non-null float64\n",
      "product_weight_g              32949 non-null float64\n",
      "product_length_cm             32949 non-null float64\n",
      "product_height_cm             32949 non-null float64\n",
      "product_width_cm              32949 non-null float64\n",
      "dtypes: float64(7), object(2)\n",
      "memory usage: 2.3+ MB\n"
     ]
    }
   ],
   "source": [
    "products_dataset_df = pd.read_csv('./brazilian-ecommerce/olist_products_dataset.csv')\n",
    "products_dataset_df_clean = products_dataset_df.copy()\n",
    "\n",
    "products_dataset_df.info()"
   ]
  },
  {
   "cell_type": "code",
   "execution_count": 22,
   "metadata": {
    "scrolled": true
   },
   "outputs": [],
   "source": [
    "# we will be dropping the rows that have missing product_category_name, product_name_lenght, product_description_lenght, product_photos_qty\n",
    "# which are 610 rows of 32951\n",
    "products_dataset_df_clean[products_dataset_df_clean['product_category_name'].isnull()].shape\n",
    "null_products_indexes = products_dataset_df_clean[products_dataset_df_clean['product_category_name'].isnull()].index\n",
    "products_dataset_df_clean.drop(inplace = True, index = null_products_indexes)"
   ]
  },
  {
   "cell_type": "code",
   "execution_count": 23,
   "metadata": {},
   "outputs": [
    {
     "name": "stdout",
     "output_type": "stream",
     "text": [
      "32341 32951\n"
     ]
    }
   ],
   "source": [
    "# testing\n",
    "print(products_dataset_df_clean.shape[0],products_dataset_df.shape[0])"
   ]
  },
  {
   "cell_type": "code",
   "execution_count": 24,
   "metadata": {},
   "outputs": [
    {
     "name": "stdout",
     "output_type": "stream",
     "text": [
      "<class 'pandas.core.frame.DataFrame'>\n",
      "Int64Index: 32341 entries, 0 to 32950\n",
      "Data columns (total 9 columns):\n",
      "product_id                    32341 non-null object\n",
      "product_category_name         32341 non-null object\n",
      "product_name_lenght           32341 non-null float64\n",
      "product_description_lenght    32341 non-null float64\n",
      "product_photos_qty            32341 non-null float64\n",
      "product_weight_g              32340 non-null float64\n",
      "product_length_cm             32340 non-null float64\n",
      "product_height_cm             32340 non-null float64\n",
      "product_width_cm              32340 non-null float64\n",
      "dtypes: float64(7), object(2)\n",
      "memory usage: 2.5+ MB\n"
     ]
    }
   ],
   "source": [
    "# 1 row missing dimensions, we will drop it also since it has negligible effect on our analysis\n",
    "products_dataset_df_clean.info()"
   ]
  },
  {
   "cell_type": "code",
   "execution_count": 25,
   "metadata": {},
   "outputs": [],
   "source": [
    "additional_products_missing_g_indexes = products_dataset_df_clean[products_dataset_df_clean['product_weight_g'].isnull()].index"
   ]
  },
  {
   "cell_type": "code",
   "execution_count": 26,
   "metadata": {},
   "outputs": [],
   "source": [
    "products_dataset_df_clean.drop(inplace = True, index = additional_products_missing_g_indexes)"
   ]
  },
  {
   "cell_type": "code",
   "execution_count": 27,
   "metadata": {},
   "outputs": [
    {
     "name": "stdout",
     "output_type": "stream",
     "text": [
      "<class 'pandas.core.frame.DataFrame'>\n",
      "Int64Index: 32340 entries, 0 to 32950\n",
      "Data columns (total 9 columns):\n",
      "product_id                    32340 non-null object\n",
      "product_category_name         32340 non-null object\n",
      "product_name_lenght           32340 non-null float64\n",
      "product_description_lenght    32340 non-null float64\n",
      "product_photos_qty            32340 non-null float64\n",
      "product_weight_g              32340 non-null float64\n",
      "product_length_cm             32340 non-null float64\n",
      "product_height_cm             32340 non-null float64\n",
      "product_width_cm              32340 non-null float64\n",
      "dtypes: float64(7), object(2)\n",
      "memory usage: 2.5+ MB\n"
     ]
    }
   ],
   "source": [
    "products_dataset_df_clean.info()"
   ]
  },
  {
   "cell_type": "code",
   "execution_count": 28,
   "metadata": {},
   "outputs": [
    {
     "data": {
      "text/html": [
       "<div>\n",
       "<style scoped>\n",
       "    .dataframe tbody tr th:only-of-type {\n",
       "        vertical-align: middle;\n",
       "    }\n",
       "\n",
       "    .dataframe tbody tr th {\n",
       "        vertical-align: top;\n",
       "    }\n",
       "\n",
       "    .dataframe thead th {\n",
       "        text-align: right;\n",
       "    }\n",
       "</style>\n",
       "<table border=\"1\" class=\"dataframe\">\n",
       "  <thead>\n",
       "    <tr style=\"text-align: right;\">\n",
       "      <th></th>\n",
       "      <th>product_name_lenght</th>\n",
       "      <th>product_description_lenght</th>\n",
       "      <th>product_photos_qty</th>\n",
       "      <th>product_weight_g</th>\n",
       "      <th>product_length_cm</th>\n",
       "      <th>product_height_cm</th>\n",
       "      <th>product_width_cm</th>\n",
       "    </tr>\n",
       "  </thead>\n",
       "  <tbody>\n",
       "    <tr>\n",
       "      <td>count</td>\n",
       "      <td>32340.000000</td>\n",
       "      <td>32340.000000</td>\n",
       "      <td>32340.000000</td>\n",
       "      <td>32340.000000</td>\n",
       "      <td>32340.000000</td>\n",
       "      <td>32340.000000</td>\n",
       "      <td>32340.000000</td>\n",
       "    </tr>\n",
       "    <tr>\n",
       "      <td>mean</td>\n",
       "      <td>48.476592</td>\n",
       "      <td>771.492393</td>\n",
       "      <td>2.188961</td>\n",
       "      <td>2276.956586</td>\n",
       "      <td>30.854545</td>\n",
       "      <td>16.958813</td>\n",
       "      <td>23.208596</td>\n",
       "    </tr>\n",
       "    <tr>\n",
       "      <td>std</td>\n",
       "      <td>10.245699</td>\n",
       "      <td>635.124831</td>\n",
       "      <td>1.736787</td>\n",
       "      <td>4279.291845</td>\n",
       "      <td>16.955965</td>\n",
       "      <td>13.636115</td>\n",
       "      <td>12.078762</td>\n",
       "    </tr>\n",
       "    <tr>\n",
       "      <td>min</td>\n",
       "      <td>5.000000</td>\n",
       "      <td>4.000000</td>\n",
       "      <td>1.000000</td>\n",
       "      <td>0.000000</td>\n",
       "      <td>7.000000</td>\n",
       "      <td>2.000000</td>\n",
       "      <td>6.000000</td>\n",
       "    </tr>\n",
       "    <tr>\n",
       "      <td>25%</td>\n",
       "      <td>42.000000</td>\n",
       "      <td>339.000000</td>\n",
       "      <td>1.000000</td>\n",
       "      <td>300.000000</td>\n",
       "      <td>18.000000</td>\n",
       "      <td>8.000000</td>\n",
       "      <td>15.000000</td>\n",
       "    </tr>\n",
       "    <tr>\n",
       "      <td>50%</td>\n",
       "      <td>51.000000</td>\n",
       "      <td>595.000000</td>\n",
       "      <td>1.000000</td>\n",
       "      <td>700.000000</td>\n",
       "      <td>25.000000</td>\n",
       "      <td>13.000000</td>\n",
       "      <td>20.000000</td>\n",
       "    </tr>\n",
       "    <tr>\n",
       "      <td>75%</td>\n",
       "      <td>57.000000</td>\n",
       "      <td>972.000000</td>\n",
       "      <td>3.000000</td>\n",
       "      <td>1900.000000</td>\n",
       "      <td>38.000000</td>\n",
       "      <td>21.000000</td>\n",
       "      <td>30.000000</td>\n",
       "    </tr>\n",
       "    <tr>\n",
       "      <td>max</td>\n",
       "      <td>76.000000</td>\n",
       "      <td>3992.000000</td>\n",
       "      <td>20.000000</td>\n",
       "      <td>40425.000000</td>\n",
       "      <td>105.000000</td>\n",
       "      <td>105.000000</td>\n",
       "      <td>118.000000</td>\n",
       "    </tr>\n",
       "  </tbody>\n",
       "</table>\n",
       "</div>"
      ],
      "text/plain": [
       "       product_name_lenght  product_description_lenght  product_photos_qty  \\\n",
       "count         32340.000000                32340.000000        32340.000000   \n",
       "mean             48.476592                  771.492393            2.188961   \n",
       "std              10.245699                  635.124831            1.736787   \n",
       "min               5.000000                    4.000000            1.000000   \n",
       "25%              42.000000                  339.000000            1.000000   \n",
       "50%              51.000000                  595.000000            1.000000   \n",
       "75%              57.000000                  972.000000            3.000000   \n",
       "max              76.000000                 3992.000000           20.000000   \n",
       "\n",
       "       product_weight_g  product_length_cm  product_height_cm  \\\n",
       "count      32340.000000       32340.000000       32340.000000   \n",
       "mean        2276.956586          30.854545          16.958813   \n",
       "std         4279.291845          16.955965          13.636115   \n",
       "min            0.000000           7.000000           2.000000   \n",
       "25%          300.000000          18.000000           8.000000   \n",
       "50%          700.000000          25.000000          13.000000   \n",
       "75%         1900.000000          38.000000          21.000000   \n",
       "max        40425.000000         105.000000         105.000000   \n",
       "\n",
       "       product_width_cm  \n",
       "count      32340.000000  \n",
       "mean          23.208596  \n",
       "std           12.078762  \n",
       "min            6.000000  \n",
       "25%           15.000000  \n",
       "50%           20.000000  \n",
       "75%           30.000000  \n",
       "max          118.000000  "
      ]
     },
     "execution_count": 28,
     "metadata": {},
     "output_type": "execute_result"
    }
   ],
   "source": [
    "products_dataset_df_clean.describe()"
   ]
  },
  {
   "cell_type": "markdown",
   "metadata": {},
   "source": [
    "#### sellers_dataset"
   ]
  },
  {
   "cell_type": "code",
   "execution_count": 29,
   "metadata": {},
   "outputs": [
    {
     "name": "stdout",
     "output_type": "stream",
     "text": [
      "<class 'pandas.core.frame.DataFrame'>\n",
      "RangeIndex: 3095 entries, 0 to 3094\n",
      "Data columns (total 4 columns):\n",
      "seller_id                 3095 non-null object\n",
      "seller_zip_code_prefix    3095 non-null int64\n",
      "seller_city               3095 non-null object\n",
      "seller_state              3095 non-null object\n",
      "dtypes: int64(1), object(3)\n",
      "memory usage: 96.8+ KB\n"
     ]
    }
   ],
   "source": [
    "# no missing values\n",
    "sellers_dataset_df = pd.read_csv('./brazilian-ecommerce/olist_sellers_dataset.csv')\n",
    "sellers_dataset_df_clean = sellers_dataset_df.copy()\n",
    "\n",
    "sellers_dataset_df.info()"
   ]
  },
  {
   "cell_type": "markdown",
   "metadata": {},
   "source": [
    "#### product_category_name_translation"
   ]
  },
  {
   "cell_type": "code",
   "execution_count": 30,
   "metadata": {
    "scrolled": true
   },
   "outputs": [
    {
     "name": "stdout",
     "output_type": "stream",
     "text": [
      "<class 'pandas.core.frame.DataFrame'>\n",
      "RangeIndex: 71 entries, 0 to 70\n",
      "Data columns (total 2 columns):\n",
      "product_category_name            71 non-null object\n",
      "product_category_name_english    71 non-null object\n",
      "dtypes: object(2)\n",
      "memory usage: 1.2+ KB\n"
     ]
    }
   ],
   "source": [
    "product_category_name_translation_df = pd.read_csv('./brazilian-ecommerce/product_category_name_translation.csv')\n",
    "product_category_name_translation_df.info()"
   ]
  },
  {
   "cell_type": "code",
   "execution_count": 31,
   "metadata": {},
   "outputs": [],
   "source": [
    "# creating a master dataframe, that has all the clean dataframes to get more insights when we want to visualize, model and predict\n",
    "master_df = orders_dataset_df_clean.copy()\n",
    "\n",
    "master_df = master_df.merge(customers_dataset_df_clean, on='customer_id', indicator=True)"
   ]
  },
  {
   "cell_type": "code",
   "execution_count": 32,
   "metadata": {},
   "outputs": [],
   "source": [
    "master_df = master_df.merge(order_reviews_dataset_df_clean, on='order_id')"
   ]
  },
  {
   "cell_type": "code",
   "execution_count": 33,
   "metadata": {},
   "outputs": [],
   "source": [
    "master_df = master_df.merge(order_payments_dataset_df_clean, on='order_id')"
   ]
  },
  {
   "cell_type": "code",
   "execution_count": 34,
   "metadata": {},
   "outputs": [],
   "source": [
    "master_df = master_df.merge(order_items_df_clean, on = 'order_id')"
   ]
  },
  {
   "cell_type": "code",
   "execution_count": 35,
   "metadata": {},
   "outputs": [],
   "source": [
    "master_df = master_df.merge(products_dataset_df_clean, on = 'product_id')"
   ]
  },
  {
   "cell_type": "code",
   "execution_count": 36,
   "metadata": {},
   "outputs": [],
   "source": [
    "master_df = master_df.merge(sellers_dataset_df_clean, on = 'seller_id')"
   ]
  },
  {
   "cell_type": "code",
   "execution_count": 37,
   "metadata": {},
   "outputs": [
    {
     "data": {
      "text/plain": [
       "(116591, 36)"
      ]
     },
     "execution_count": 37,
     "metadata": {},
     "output_type": "execute_result"
    }
   ],
   "source": [
    "master_df.shape"
   ]
  },
  {
   "cell_type": "markdown",
   "metadata": {},
   "source": [
    "# Exploratory Data Visualization\n",
    "\n",
    "#### In this section we will be answering inquiries using visualizations of data insights using univariable, bivariable and multivariable plots"
   ]
  },
  {
   "cell_type": "code",
   "execution_count": 38,
   "metadata": {},
   "outputs": [
    {
     "data": {
      "text/plain": [
       "(116591, 36)"
      ]
     },
     "execution_count": 38,
     "metadata": {},
     "output_type": "execute_result"
    }
   ],
   "source": [
    "master_df.shape"
   ]
  },
  {
   "cell_type": "code",
   "execution_count": 39,
   "metadata": {},
   "outputs": [
    {
     "data": {
      "text/plain": [
       "order_id                            0\n",
       "customer_id                         0\n",
       "order_status                        0\n",
       "order_purchase_timestamp            0\n",
       "order_approved_at                   0\n",
       "order_delivered_carrier_date     1215\n",
       "order_delivered_customer_date    2517\n",
       "order_estimated_delivery_date       0\n",
       "customer_unique_id                  0\n",
       "customer_zip_code_prefix            0\n",
       "customer_city                       0\n",
       "customer_state                      0\n",
       "_merge                              0\n",
       "review_id                           0\n",
       "review_score                        0\n",
       "payment_sequential                  0\n",
       "payment_type                        0\n",
       "payment_installments                0\n",
       "payment_value                       0\n",
       "order_item_id                       0\n",
       "product_id                          0\n",
       "seller_id                           0\n",
       "shipping_limit_date                 0\n",
       "price                               0\n",
       "freight_value                       0\n",
       "product_category_name               0\n",
       "product_name_lenght                 0\n",
       "product_description_lenght          0\n",
       "product_photos_qty                  0\n",
       "product_weight_g                    0\n",
       "product_length_cm                   0\n",
       "product_height_cm                   0\n",
       "product_width_cm                    0\n",
       "seller_zip_code_prefix              0\n",
       "seller_city                         0\n",
       "seller_state                        0\n",
       "dtype: int64"
      ]
     },
     "execution_count": 39,
     "metadata": {},
     "output_type": "execute_result"
    }
   ],
   "source": [
    "# we only have two columns having null values, order_delivered_carrier_date and order_delivered_customer_date  \n",
    "master_df.isnull().sum()"
   ]
  },
  {
   "cell_type": "code",
   "execution_count": 40,
   "metadata": {},
   "outputs": [
    {
     "data": {
      "image/png": "[encoded data removed]",
      "text/plain": [
       "<Figure size 864x720 with 2 Axes>"
      ]
     },
     "metadata": {
      "needs_background": "light"
     },
     "output_type": "display_data"
    }
   ],
   "source": [
    "plt.figure(figsize=(12,10))\n",
    "sns.heatmap(master_df.corr().round(2), xticklabels=master_df.corr().columns, yticklabels=master_df.corr().columns, cmap='RdYlGn', center=0, annot=True)\n",
    "\n",
    "plt.title('Correlogram of Olist Master Dataframe', fontsize=22)\n",
    "plt.xticks(fontsize=12)\n",
    "plt.yticks(fontsize=12)\n",
    "plt.show()"
   ]
  },
  {
   "cell_type": "code",
   "execution_count": 41,
   "metadata": {},
   "outputs": [
    {
     "data": {
      "text/html": [
       "<div>\n",
       "<style scoped>\n",
       "    .dataframe tbody tr th:only-of-type {\n",
       "        vertical-align: middle;\n",
       "    }\n",
       "\n",
       "    .dataframe tbody tr th {\n",
       "        vertical-align: top;\n",
       "    }\n",
       "\n",
       "    .dataframe thead th {\n",
       "        text-align: right;\n",
       "    }\n",
       "</style>\n",
       "<table border=\"1\" class=\"dataframe\">\n",
       "  <thead>\n",
       "    <tr style=\"text-align: right;\">\n",
       "      <th></th>\n",
       "      <th>customer_zip_code_prefix</th>\n",
       "      <th>review_score</th>\n",
       "      <th>payment_sequential</th>\n",
       "      <th>payment_installments</th>\n",
       "      <th>payment_value</th>\n",
       "      <th>order_item_id</th>\n",
       "      <th>price</th>\n",
       "      <th>freight_value</th>\n",
       "      <th>product_name_lenght</th>\n",
       "      <th>product_description_lenght</th>\n",
       "      <th>product_photos_qty</th>\n",
       "      <th>product_weight_g</th>\n",
       "      <th>product_length_cm</th>\n",
       "      <th>product_height_cm</th>\n",
       "      <th>product_width_cm</th>\n",
       "      <th>seller_zip_code_prefix</th>\n",
       "    </tr>\n",
       "  </thead>\n",
       "  <tbody>\n",
       "    <tr>\n",
       "      <td>customer_zip_code_prefix</td>\n",
       "      <td>True</td>\n",
       "      <td>False</td>\n",
       "      <td>False</td>\n",
       "      <td>False</td>\n",
       "      <td>False</td>\n",
       "      <td>False</td>\n",
       "      <td>False</td>\n",
       "      <td>False</td>\n",
       "      <td>False</td>\n",
       "      <td>False</td>\n",
       "      <td>False</td>\n",
       "      <td>False</td>\n",
       "      <td>False</td>\n",
       "      <td>False</td>\n",
       "      <td>False</td>\n",
       "      <td>False</td>\n",
       "    </tr>\n",
       "    <tr>\n",
       "      <td>review_score</td>\n",
       "      <td>False</td>\n",
       "      <td>True</td>\n",
       "      <td>False</td>\n",
       "      <td>False</td>\n",
       "      <td>False</td>\n",
       "      <td>False</td>\n",
       "      <td>False</td>\n",
       "      <td>False</td>\n",
       "      <td>False</td>\n",
       "      <td>False</td>\n",
       "      <td>False</td>\n",
       "      <td>False</td>\n",
       "      <td>False</td>\n",
       "      <td>False</td>\n",
       "      <td>False</td>\n",
       "      <td>False</td>\n",
       "    </tr>\n",
       "    <tr>\n",
       "      <td>payment_sequential</td>\n",
       "      <td>False</td>\n",
       "      <td>False</td>\n",
       "      <td>True</td>\n",
       "      <td>False</td>\n",
       "      <td>False</td>\n",
       "      <td>False</td>\n",
       "      <td>False</td>\n",
       "      <td>False</td>\n",
       "      <td>False</td>\n",
       "      <td>False</td>\n",
       "      <td>False</td>\n",
       "      <td>False</td>\n",
       "      <td>False</td>\n",
       "      <td>False</td>\n",
       "      <td>False</td>\n",
       "      <td>False</td>\n",
       "    </tr>\n",
       "    <tr>\n",
       "      <td>payment_installments</td>\n",
       "      <td>False</td>\n",
       "      <td>False</td>\n",
       "      <td>False</td>\n",
       "      <td>True</td>\n",
       "      <td>False</td>\n",
       "      <td>False</td>\n",
       "      <td>False</td>\n",
       "      <td>False</td>\n",
       "      <td>False</td>\n",
       "      <td>False</td>\n",
       "      <td>False</td>\n",
       "      <td>False</td>\n",
       "      <td>False</td>\n",
       "      <td>False</td>\n",
       "      <td>False</td>\n",
       "      <td>False</td>\n",
       "    </tr>\n",
       "    <tr>\n",
       "      <td>payment_value</td>\n",
       "      <td>False</td>\n",
       "      <td>False</td>\n",
       "      <td>False</td>\n",
       "      <td>False</td>\n",
       "      <td>True</td>\n",
       "      <td>False</td>\n",
       "      <td>True</td>\n",
       "      <td>False</td>\n",
       "      <td>False</td>\n",
       "      <td>False</td>\n",
       "      <td>False</td>\n",
       "      <td>False</td>\n",
       "      <td>False</td>\n",
       "      <td>False</td>\n",
       "      <td>False</td>\n",
       "      <td>False</td>\n",
       "    </tr>\n",
       "    <tr>\n",
       "      <td>order_item_id</td>\n",
       "      <td>False</td>\n",
       "      <td>False</td>\n",
       "      <td>False</td>\n",
       "      <td>False</td>\n",
       "      <td>False</td>\n",
       "      <td>True</td>\n",
       "      <td>False</td>\n",
       "      <td>False</td>\n",
       "      <td>False</td>\n",
       "      <td>False</td>\n",
       "      <td>False</td>\n",
       "      <td>False</td>\n",
       "      <td>False</td>\n",
       "      <td>False</td>\n",
       "      <td>False</td>\n",
       "      <td>False</td>\n",
       "    </tr>\n",
       "    <tr>\n",
       "      <td>price</td>\n",
       "      <td>False</td>\n",
       "      <td>False</td>\n",
       "      <td>False</td>\n",
       "      <td>False</td>\n",
       "      <td>True</td>\n",
       "      <td>False</td>\n",
       "      <td>True</td>\n",
       "      <td>False</td>\n",
       "      <td>False</td>\n",
       "      <td>False</td>\n",
       "      <td>False</td>\n",
       "      <td>False</td>\n",
       "      <td>False</td>\n",
       "      <td>False</td>\n",
       "      <td>False</td>\n",
       "      <td>False</td>\n",
       "    </tr>\n",
       "    <tr>\n",
       "      <td>freight_value</td>\n",
       "      <td>False</td>\n",
       "      <td>False</td>\n",
       "      <td>False</td>\n",
       "      <td>False</td>\n",
       "      <td>False</td>\n",
       "      <td>False</td>\n",
       "      <td>False</td>\n",
       "      <td>True</td>\n",
       "      <td>False</td>\n",
       "      <td>False</td>\n",
       "      <td>False</td>\n",
       "      <td>True</td>\n",
       "      <td>False</td>\n",
       "      <td>False</td>\n",
       "      <td>False</td>\n",
       "      <td>False</td>\n",
       "    </tr>\n",
       "    <tr>\n",
       "      <td>product_name_lenght</td>\n",
       "      <td>False</td>\n",
       "      <td>False</td>\n",
       "      <td>False</td>\n",
       "      <td>False</td>\n",
       "      <td>False</td>\n",
       "      <td>False</td>\n",
       "      <td>False</td>\n",
       "      <td>False</td>\n",
       "      <td>True</td>\n",
       "      <td>False</td>\n",
       "      <td>False</td>\n",
       "      <td>False</td>\n",
       "      <td>False</td>\n",
       "      <td>False</td>\n",
       "      <td>False</td>\n",
       "      <td>False</td>\n",
       "    </tr>\n",
       "    <tr>\n",
       "      <td>product_description_lenght</td>\n",
       "      <td>False</td>\n",
       "      <td>False</td>\n",
       "      <td>False</td>\n",
       "      <td>False</td>\n",
       "      <td>False</td>\n",
       "      <td>False</td>\n",
       "      <td>False</td>\n",
       "      <td>False</td>\n",
       "      <td>False</td>\n",
       "      <td>True</td>\n",
       "      <td>False</td>\n",
       "      <td>False</td>\n",
       "      <td>False</td>\n",
       "      <td>False</td>\n",
       "      <td>False</td>\n",
       "      <td>False</td>\n",
       "    </tr>\n",
       "    <tr>\n",
       "      <td>product_photos_qty</td>\n",
       "      <td>False</td>\n",
       "      <td>False</td>\n",
       "      <td>False</td>\n",
       "      <td>False</td>\n",
       "      <td>False</td>\n",
       "      <td>False</td>\n",
       "      <td>False</td>\n",
       "      <td>False</td>\n",
       "      <td>False</td>\n",
       "      <td>False</td>\n",
       "      <td>True</td>\n",
       "      <td>False</td>\n",
       "      <td>False</td>\n",
       "      <td>False</td>\n",
       "      <td>False</td>\n",
       "      <td>False</td>\n",
       "    </tr>\n",
       "    <tr>\n",
       "      <td>product_weight_g</td>\n",
       "      <td>False</td>\n",
       "      <td>False</td>\n",
       "      <td>False</td>\n",
       "      <td>False</td>\n",
       "      <td>False</td>\n",
       "      <td>False</td>\n",
       "      <td>False</td>\n",
       "      <td>True</td>\n",
       "      <td>False</td>\n",
       "      <td>False</td>\n",
       "      <td>False</td>\n",
       "      <td>True</td>\n",
       "      <td>False</td>\n",
       "      <td>True</td>\n",
       "      <td>True</td>\n",
       "      <td>False</td>\n",
       "    </tr>\n",
       "    <tr>\n",
       "      <td>product_length_cm</td>\n",
       "      <td>False</td>\n",
       "      <td>False</td>\n",
       "      <td>False</td>\n",
       "      <td>False</td>\n",
       "      <td>False</td>\n",
       "      <td>False</td>\n",
       "      <td>False</td>\n",
       "      <td>False</td>\n",
       "      <td>False</td>\n",
       "      <td>False</td>\n",
       "      <td>False</td>\n",
       "      <td>False</td>\n",
       "      <td>True</td>\n",
       "      <td>False</td>\n",
       "      <td>True</td>\n",
       "      <td>False</td>\n",
       "    </tr>\n",
       "    <tr>\n",
       "      <td>product_height_cm</td>\n",
       "      <td>False</td>\n",
       "      <td>False</td>\n",
       "      <td>False</td>\n",
       "      <td>False</td>\n",
       "      <td>False</td>\n",
       "      <td>False</td>\n",
       "      <td>False</td>\n",
       "      <td>False</td>\n",
       "      <td>False</td>\n",
       "      <td>False</td>\n",
       "      <td>False</td>\n",
       "      <td>True</td>\n",
       "      <td>False</td>\n",
       "      <td>True</td>\n",
       "      <td>False</td>\n",
       "      <td>False</td>\n",
       "    </tr>\n",
       "    <tr>\n",
       "      <td>product_width_cm</td>\n",
       "      <td>False</td>\n",
       "      <td>False</td>\n",
       "      <td>False</td>\n",
       "      <td>False</td>\n",
       "      <td>False</td>\n",
       "      <td>False</td>\n",
       "      <td>False</td>\n",
       "      <td>False</td>\n",
       "      <td>False</td>\n",
       "      <td>False</td>\n",
       "      <td>False</td>\n",
       "      <td>True</td>\n",
       "      <td>True</td>\n",
       "      <td>False</td>\n",
       "      <td>True</td>\n",
       "      <td>False</td>\n",
       "    </tr>\n",
       "    <tr>\n",
       "      <td>seller_zip_code_prefix</td>\n",
       "      <td>False</td>\n",
       "      <td>False</td>\n",
       "      <td>False</td>\n",
       "      <td>False</td>\n",
       "      <td>False</td>\n",
       "      <td>False</td>\n",
       "      <td>False</td>\n",
       "      <td>False</td>\n",
       "      <td>False</td>\n",
       "      <td>False</td>\n",
       "      <td>False</td>\n",
       "      <td>False</td>\n",
       "      <td>False</td>\n",
       "      <td>False</td>\n",
       "      <td>False</td>\n",
       "      <td>True</td>\n",
       "    </tr>\n",
       "  </tbody>\n",
       "</table>\n",
       "</div>"
      ],
      "text/plain": [
       "                            customer_zip_code_prefix  review_score  \\\n",
       "customer_zip_code_prefix                        True         False   \n",
       "review_score                                   False          True   \n",
       "payment_sequential                             False         False   \n",
       "payment_installments                           False         False   \n",
       "payment_value                                  False         False   \n",
       "order_item_id                                  False         False   \n",
       "price                                          False         False   \n",
       "freight_value                                  False         False   \n",
       "product_name_lenght                            False         False   \n",
       "product_description_lenght                     False         False   \n",
       "product_photos_qty                             False         False   \n",
       "product_weight_g                               False         False   \n",
       "product_length_cm                              False         False   \n",
       "product_height_cm                              False         False   \n",
       "product_width_cm                               False         False   \n",
       "seller_zip_code_prefix                         False         False   \n",
       "\n",
       "                            payment_sequential  payment_installments  \\\n",
       "customer_zip_code_prefix                 False                 False   \n",
       "review_score                             False                 False   \n",
       "payment_sequential                        True                 False   \n",
       "payment_installments                     False                  True   \n",
       "payment_value                            False                 False   \n",
       "order_item_id                            False                 False   \n",
       "price                                    False                 False   \n",
       "freight_value                            False                 False   \n",
       "product_name_lenght                      False                 False   \n",
       "product_description_lenght               False                 False   \n",
       "product_photos_qty                       False                 False   \n",
       "product_weight_g                         False                 False   \n",
       "product_length_cm                        False                 False   \n",
       "product_height_cm                        False                 False   \n",
       "product_width_cm                         False                 False   \n",
       "seller_zip_code_prefix                   False                 False   \n",
       "\n",
       "                            payment_value  order_item_id  price  \\\n",
       "customer_zip_code_prefix            False          False  False   \n",
       "review_score                        False          False  False   \n",
       "payment_sequential                  False          False  False   \n",
       "payment_installments                False          False  False   \n",
       "payment_value                        True          False   True   \n",
       "order_item_id                       False           True  False   \n",
       "price                                True          False   True   \n",
       "freight_value                       False          False  False   \n",
       "product_name_lenght                 False          False  False   \n",
       "product_description_lenght          False          False  False   \n",
       "product_photos_qty                  False          False  False   \n",
       "product_weight_g                    False          False  False   \n",
       "product_length_cm                   False          False  False   \n",
       "product_height_cm                   False          False  False   \n",
       "product_width_cm                    False          False  False   \n",
       "seller_zip_code_prefix              False          False  False   \n",
       "\n",
       "                            freight_value  product_name_lenght  \\\n",
       "customer_zip_code_prefix            False                False   \n",
       "review_score                        False                False   \n",
       "payment_sequential                  False                False   \n",
       "payment_installments                False                False   \n",
       "payment_value                       False                False   \n",
       "order_item_id                       False                False   \n",
       "price                               False                False   \n",
       "freight_value                        True                False   \n",
       "product_name_lenght                 False                 True   \n",
       "product_description_lenght          False                False   \n",
       "product_photos_qty                  False                False   \n",
       "product_weight_g                     True                False   \n",
       "product_length_cm                   False                False   \n",
       "product_height_cm                   False                False   \n",
       "product_width_cm                    False                False   \n",
       "seller_zip_code_prefix              False                False   \n",
       "\n",
       "                            product_description_lenght  product_photos_qty  \\\n",
       "customer_zip_code_prefix                         False               False   \n",
       "review_score                                     False               False   \n",
       "payment_sequential                               False               False   \n",
       "payment_installments                             False               False   \n",
       "payment_value                                    False               False   \n",
       "order_item_id                                    False               False   \n",
       "price                                            False               False   \n",
       "freight_value                                    False               False   \n",
       "product_name_lenght                              False               False   \n",
       "product_description_lenght                        True               False   \n",
       "product_photos_qty                               False                True   \n",
       "product_weight_g                                 False               False   \n",
       "product_length_cm                                False               False   \n",
       "product_height_cm                                False               False   \n",
       "product_width_cm                                 False               False   \n",
       "seller_zip_code_prefix                           False               False   \n",
       "\n",
       "                            product_weight_g  product_length_cm  \\\n",
       "customer_zip_code_prefix               False              False   \n",
       "review_score                           False              False   \n",
       "payment_sequential                     False              False   \n",
       "payment_installments                   False              False   \n",
       "payment_value                          False              False   \n",
       "order_item_id                          False              False   \n",
       "price                                  False              False   \n",
       "freight_value                           True              False   \n",
       "product_name_lenght                    False              False   \n",
       "product_description_lenght             False              False   \n",
       "product_photos_qty                     False              False   \n",
       "product_weight_g                        True              False   \n",
       "product_length_cm                      False               True   \n",
       "product_height_cm                       True              False   \n",
       "product_width_cm                        True               True   \n",
       "seller_zip_code_prefix                 False              False   \n",
       "\n",
       "                            product_height_cm  product_width_cm  \\\n",
       "customer_zip_code_prefix                False             False   \n",
       "review_score                            False             False   \n",
       "payment_sequential                      False             False   \n",
       "payment_installments                    False             False   \n",
       "payment_value                           False             False   \n",
       "order_item_id                           False             False   \n",
       "price                                   False             False   \n",
       "freight_value                           False             False   \n",
       "product_name_lenght                     False             False   \n",
       "product_description_lenght              False             False   \n",
       "product_photos_qty                      False             False   \n",
       "product_weight_g                         True              True   \n",
       "product_length_cm                       False              True   \n",
       "product_height_cm                        True             False   \n",
       "product_width_cm                        False              True   \n",
       "seller_zip_code_prefix                  False             False   \n",
       "\n",
       "                            seller_zip_code_prefix  \n",
       "customer_zip_code_prefix                     False  \n",
       "review_score                                 False  \n",
       "payment_sequential                           False  \n",
       "payment_installments                         False  \n",
       "payment_value                                False  \n",
       "order_item_id                                False  \n",
       "price                                        False  \n",
       "freight_value                                False  \n",
       "product_name_lenght                          False  \n",
       "product_description_lenght                   False  \n",
       "product_photos_qty                           False  \n",
       "product_weight_g                             False  \n",
       "product_length_cm                            False  \n",
       "product_height_cm                            False  \n",
       "product_width_cm                             False  \n",
       "seller_zip_code_prefix                        True  "
      ]
     },
     "execution_count": 41,
     "metadata": {},
     "output_type": "execute_result"
    }
   ],
   "source": [
    "master_df.corr().round(2)> 0.5"
   ]
  },
  {
   "cell_type": "code",
   "execution_count": 42,
   "metadata": {},
   "outputs": [
    {
     "data": {
      "text/html": [
       "<div>\n",
       "<style scoped>\n",
       "    .dataframe tbody tr th:only-of-type {\n",
       "        vertical-align: middle;\n",
       "    }\n",
       "\n",
       "    .dataframe tbody tr th {\n",
       "        vertical-align: top;\n",
       "    }\n",
       "\n",
       "    .dataframe thead th {\n",
       "        text-align: right;\n",
       "    }\n",
       "</style>\n",
       "<table border=\"1\" class=\"dataframe\">\n",
       "  <thead>\n",
       "    <tr style=\"text-align: right;\">\n",
       "      <th></th>\n",
       "      <th>customer_zip_code_prefix</th>\n",
       "      <th>review_score</th>\n",
       "      <th>payment_sequential</th>\n",
       "      <th>payment_installments</th>\n",
       "      <th>payment_value</th>\n",
       "      <th>order_item_id</th>\n",
       "      <th>price</th>\n",
       "      <th>freight_value</th>\n",
       "      <th>product_name_lenght</th>\n",
       "      <th>product_description_lenght</th>\n",
       "      <th>product_photos_qty</th>\n",
       "      <th>product_weight_g</th>\n",
       "      <th>product_length_cm</th>\n",
       "      <th>product_height_cm</th>\n",
       "      <th>product_width_cm</th>\n",
       "      <th>seller_zip_code_prefix</th>\n",
       "    </tr>\n",
       "  </thead>\n",
       "  <tbody>\n",
       "    <tr>\n",
       "      <td>customer_zip_code_prefix</td>\n",
       "      <td>True</td>\n",
       "      <td>False</td>\n",
       "      <td>False</td>\n",
       "      <td>False</td>\n",
       "      <td>False</td>\n",
       "      <td>False</td>\n",
       "      <td>False</td>\n",
       "      <td>False</td>\n",
       "      <td>False</td>\n",
       "      <td>False</td>\n",
       "      <td>False</td>\n",
       "      <td>False</td>\n",
       "      <td>False</td>\n",
       "      <td>False</td>\n",
       "      <td>False</td>\n",
       "      <td>False</td>\n",
       "    </tr>\n",
       "    <tr>\n",
       "      <td>review_score</td>\n",
       "      <td>False</td>\n",
       "      <td>True</td>\n",
       "      <td>False</td>\n",
       "      <td>False</td>\n",
       "      <td>False</td>\n",
       "      <td>False</td>\n",
       "      <td>False</td>\n",
       "      <td>False</td>\n",
       "      <td>False</td>\n",
       "      <td>False</td>\n",
       "      <td>False</td>\n",
       "      <td>False</td>\n",
       "      <td>False</td>\n",
       "      <td>False</td>\n",
       "      <td>False</td>\n",
       "      <td>False</td>\n",
       "    </tr>\n",
       "    <tr>\n",
       "      <td>payment_sequential</td>\n",
       "      <td>False</td>\n",
       "      <td>False</td>\n",
       "      <td>True</td>\n",
       "      <td>False</td>\n",
       "      <td>False</td>\n",
       "      <td>False</td>\n",
       "      <td>False</td>\n",
       "      <td>False</td>\n",
       "      <td>False</td>\n",
       "      <td>False</td>\n",
       "      <td>False</td>\n",
       "      <td>False</td>\n",
       "      <td>False</td>\n",
       "      <td>False</td>\n",
       "      <td>False</td>\n",
       "      <td>False</td>\n",
       "    </tr>\n",
       "    <tr>\n",
       "      <td>payment_installments</td>\n",
       "      <td>False</td>\n",
       "      <td>False</td>\n",
       "      <td>False</td>\n",
       "      <td>True</td>\n",
       "      <td>False</td>\n",
       "      <td>False</td>\n",
       "      <td>False</td>\n",
       "      <td>False</td>\n",
       "      <td>False</td>\n",
       "      <td>False</td>\n",
       "      <td>False</td>\n",
       "      <td>False</td>\n",
       "      <td>False</td>\n",
       "      <td>False</td>\n",
       "      <td>False</td>\n",
       "      <td>False</td>\n",
       "    </tr>\n",
       "    <tr>\n",
       "      <td>payment_value</td>\n",
       "      <td>False</td>\n",
       "      <td>False</td>\n",
       "      <td>False</td>\n",
       "      <td>False</td>\n",
       "      <td>True</td>\n",
       "      <td>False</td>\n",
       "      <td>True</td>\n",
       "      <td>False</td>\n",
       "      <td>False</td>\n",
       "      <td>False</td>\n",
       "      <td>False</td>\n",
       "      <td>False</td>\n",
       "      <td>False</td>\n",
       "      <td>False</td>\n",
       "      <td>False</td>\n",
       "      <td>False</td>\n",
       "    </tr>\n",
       "    <tr>\n",
       "      <td>order_item_id</td>\n",
       "      <td>False</td>\n",
       "      <td>False</td>\n",
       "      <td>False</td>\n",
       "      <td>False</td>\n",
       "      <td>False</td>\n",
       "      <td>True</td>\n",
       "      <td>False</td>\n",
       "      <td>False</td>\n",
       "      <td>False</td>\n",
       "      <td>False</td>\n",
       "      <td>False</td>\n",
       "      <td>False</td>\n",
       "      <td>False</td>\n",
       "      <td>False</td>\n",
       "      <td>False</td>\n",
       "      <td>False</td>\n",
       "    </tr>\n",
       "    <tr>\n",
       "      <td>price</td>\n",
       "      <td>False</td>\n",
       "      <td>False</td>\n",
       "      <td>False</td>\n",
       "      <td>False</td>\n",
       "      <td>True</td>\n",
       "      <td>False</td>\n",
       "      <td>True</td>\n",
       "      <td>False</td>\n",
       "      <td>False</td>\n",
       "      <td>False</td>\n",
       "      <td>False</td>\n",
       "      <td>False</td>\n",
       "      <td>False</td>\n",
       "      <td>False</td>\n",
       "      <td>False</td>\n",
       "      <td>False</td>\n",
       "    </tr>\n",
       "    <tr>\n",
       "      <td>freight_value</td>\n",
       "      <td>False</td>\n",
       "      <td>False</td>\n",
       "      <td>False</td>\n",
       "      <td>False</td>\n",
       "      <td>False</td>\n",
       "      <td>False</td>\n",
       "      <td>False</td>\n",
       "      <td>True</td>\n",
       "      <td>False</td>\n",
       "      <td>False</td>\n",
       "      <td>False</td>\n",
       "      <td>True</td>\n",
       "      <td>False</td>\n",
       "      <td>False</td>\n",
       "      <td>False</td>\n",
       "      <td>False</td>\n",
       "    </tr>\n",
       "    <tr>\n",
       "      <td>product_name_lenght</td>\n",
       "      <td>False</td>\n",
       "      <td>False</td>\n",
       "      <td>False</td>\n",
       "      <td>False</td>\n",
       "      <td>False</td>\n",
       "      <td>False</td>\n",
       "      <td>False</td>\n",
       "      <td>False</td>\n",
       "      <td>True</td>\n",
       "      <td>False</td>\n",
       "      <td>False</td>\n",
       "      <td>False</td>\n",
       "      <td>False</td>\n",
       "      <td>False</td>\n",
       "      <td>False</td>\n",
       "      <td>False</td>\n",
       "    </tr>\n",
       "    <tr>\n",
       "      <td>product_description_lenght</td>\n",
       "      <td>False</td>\n",
       "      <td>False</td>\n",
       "      <td>False</td>\n",
       "      <td>False</td>\n",
       "      <td>False</td>\n",
       "      <td>False</td>\n",
       "      <td>False</td>\n",
       "      <td>False</td>\n",
       "      <td>False</td>\n",
       "      <td>True</td>\n",
       "      <td>False</td>\n",
       "      <td>False</td>\n",
       "      <td>False</td>\n",
       "      <td>False</td>\n",
       "      <td>False</td>\n",
       "      <td>False</td>\n",
       "    </tr>\n",
       "    <tr>\n",
       "      <td>product_photos_qty</td>\n",
       "      <td>False</td>\n",
       "      <td>False</td>\n",
       "      <td>False</td>\n",
       "      <td>False</td>\n",
       "      <td>False</td>\n",
       "      <td>False</td>\n",
       "      <td>False</td>\n",
       "      <td>False</td>\n",
       "      <td>False</td>\n",
       "      <td>False</td>\n",
       "      <td>True</td>\n",
       "      <td>False</td>\n",
       "      <td>False</td>\n",
       "      <td>False</td>\n",
       "      <td>False</td>\n",
       "      <td>False</td>\n",
       "    </tr>\n",
       "    <tr>\n",
       "      <td>product_weight_g</td>\n",
       "      <td>False</td>\n",
       "      <td>False</td>\n",
       "      <td>False</td>\n",
       "      <td>False</td>\n",
       "      <td>False</td>\n",
       "      <td>False</td>\n",
       "      <td>False</td>\n",
       "      <td>True</td>\n",
       "      <td>False</td>\n",
       "      <td>False</td>\n",
       "      <td>False</td>\n",
       "      <td>True</td>\n",
       "      <td>False</td>\n",
       "      <td>True</td>\n",
       "      <td>True</td>\n",
       "      <td>False</td>\n",
       "    </tr>\n",
       "    <tr>\n",
       "      <td>product_length_cm</td>\n",
       "      <td>False</td>\n",
       "      <td>False</td>\n",
       "      <td>False</td>\n",
       "      <td>False</td>\n",
       "      <td>False</td>\n",
       "      <td>False</td>\n",
       "      <td>False</td>\n",
       "      <td>False</td>\n",
       "      <td>False</td>\n",
       "      <td>False</td>\n",
       "      <td>False</td>\n",
       "      <td>False</td>\n",
       "      <td>True</td>\n",
       "      <td>False</td>\n",
       "      <td>True</td>\n",
       "      <td>False</td>\n",
       "    </tr>\n",
       "    <tr>\n",
       "      <td>product_height_cm</td>\n",
       "      <td>False</td>\n",
       "      <td>False</td>\n",
       "      <td>False</td>\n",
       "      <td>False</td>\n",
       "      <td>False</td>\n",
       "      <td>False</td>\n",
       "      <td>False</td>\n",
       "      <td>False</td>\n",
       "      <td>False</td>\n",
       "      <td>False</td>\n",
       "      <td>False</td>\n",
       "      <td>True</td>\n",
       "      <td>False</td>\n",
       "      <td>True</td>\n",
       "      <td>False</td>\n",
       "      <td>False</td>\n",
       "    </tr>\n",
       "    <tr>\n",
       "      <td>product_width_cm</td>\n",
       "      <td>False</td>\n",
       "      <td>False</td>\n",
       "      <td>False</td>\n",
       "      <td>False</td>\n",
       "      <td>False</td>\n",
       "      <td>False</td>\n",
       "      <td>False</td>\n",
       "      <td>False</td>\n",
       "      <td>False</td>\n",
       "      <td>False</td>\n",
       "      <td>False</td>\n",
       "      <td>True</td>\n",
       "      <td>True</td>\n",
       "      <td>False</td>\n",
       "      <td>True</td>\n",
       "      <td>False</td>\n",
       "    </tr>\n",
       "    <tr>\n",
       "      <td>seller_zip_code_prefix</td>\n",
       "      <td>False</td>\n",
       "      <td>False</td>\n",
       "      <td>False</td>\n",
       "      <td>False</td>\n",
       "      <td>False</td>\n",
       "      <td>False</td>\n",
       "      <td>False</td>\n",
       "      <td>False</td>\n",
       "      <td>False</td>\n",
       "      <td>False</td>\n",
       "      <td>False</td>\n",
       "      <td>False</td>\n",
       "      <td>False</td>\n",
       "      <td>False</td>\n",
       "      <td>False</td>\n",
       "      <td>True</td>\n",
       "    </tr>\n",
       "  </tbody>\n",
       "</table>\n",
       "</div>"
      ],
      "text/plain": [
       "                            customer_zip_code_prefix  review_score  \\\n",
       "customer_zip_code_prefix                        True         False   \n",
       "review_score                                   False          True   \n",
       "payment_sequential                             False         False   \n",
       "payment_installments                           False         False   \n",
       "payment_value                                  False         False   \n",
       "order_item_id                                  False         False   \n",
       "price                                          False         False   \n",
       "freight_value                                  False         False   \n",
       "product_name_lenght                            False         False   \n",
       "product_description_lenght                     False         False   \n",
       "product_photos_qty                             False         False   \n",
       "product_weight_g                               False         False   \n",
       "product_length_cm                              False         False   \n",
       "product_height_cm                              False         False   \n",
       "product_width_cm                               False         False   \n",
       "seller_zip_code_prefix                         False         False   \n",
       "\n",
       "                            payment_sequential  payment_installments  \\\n",
       "customer_zip_code_prefix                 False                 False   \n",
       "review_score                             False                 False   \n",
       "payment_sequential                        True                 False   \n",
       "payment_installments                     False                  True   \n",
       "payment_value                            False                 False   \n",
       "order_item_id                            False                 False   \n",
       "price                                    False                 False   \n",
       "freight_value                            False                 False   \n",
       "product_name_lenght                      False                 False   \n",
       "product_description_lenght               False                 False   \n",
       "product_photos_qty                       False                 False   \n",
       "product_weight_g                         False                 False   \n",
       "product_length_cm                        False                 False   \n",
       "product_height_cm                        False                 False   \n",
       "product_width_cm                         False                 False   \n",
       "seller_zip_code_prefix                   False                 False   \n",
       "\n",
       "                            payment_value  order_item_id  price  \\\n",
       "customer_zip_code_prefix            False          False  False   \n",
       "review_score                        False          False  False   \n",
       "payment_sequential                  False          False  False   \n",
       "payment_installments                False          False  False   \n",
       "payment_value                        True          False   True   \n",
       "order_item_id                       False           True  False   \n",
       "price                                True          False   True   \n",
       "freight_value                       False          False  False   \n",
       "product_name_lenght                 False          False  False   \n",
       "product_description_lenght          False          False  False   \n",
       "product_photos_qty                  False          False  False   \n",
       "product_weight_g                    False          False  False   \n",
       "product_length_cm                   False          False  False   \n",
       "product_height_cm                   False          False  False   \n",
       "product_width_cm                    False          False  False   \n",
       "seller_zip_code_prefix              False          False  False   \n",
       "\n",
       "                            freight_value  product_name_lenght  \\\n",
       "customer_zip_code_prefix            False                False   \n",
       "review_score                        False                False   \n",
       "payment_sequential                  False                False   \n",
       "payment_installments                False                False   \n",
       "payment_value                       False                False   \n",
       "order_item_id                       False                False   \n",
       "price                               False                False   \n",
       "freight_value                        True                False   \n",
       "product_name_lenght                 False                 True   \n",
       "product_description_lenght          False                False   \n",
       "product_photos_qty                  False                False   \n",
       "product_weight_g                     True                False   \n",
       "product_length_cm                   False                False   \n",
       "product_height_cm                   False                False   \n",
       "product_width_cm                    False                False   \n",
       "seller_zip_code_prefix              False                False   \n",
       "\n",
       "                            product_description_lenght  product_photos_qty  \\\n",
       "customer_zip_code_prefix                         False               False   \n",
       "review_score                                     False               False   \n",
       "payment_sequential                               False               False   \n",
       "payment_installments                             False               False   \n",
       "payment_value                                    False               False   \n",
       "order_item_id                                    False               False   \n",
       "price                                            False               False   \n",
       "freight_value                                    False               False   \n",
       "product_name_lenght                              False               False   \n",
       "product_description_lenght                        True               False   \n",
       "product_photos_qty                               False                True   \n",
       "product_weight_g                                 False               False   \n",
       "product_length_cm                                False               False   \n",
       "product_height_cm                                False               False   \n",
       "product_width_cm                                 False               False   \n",
       "seller_zip_code_prefix                           False               False   \n",
       "\n",
       "                            product_weight_g  product_length_cm  \\\n",
       "customer_zip_code_prefix               False              False   \n",
       "review_score                           False              False   \n",
       "payment_sequential                     False              False   \n",
       "payment_installments                   False              False   \n",
       "payment_value                          False              False   \n",
       "order_item_id                          False              False   \n",
       "price                                  False              False   \n",
       "freight_value                           True              False   \n",
       "product_name_lenght                    False              False   \n",
       "product_description_lenght             False              False   \n",
       "product_photos_qty                     False              False   \n",
       "product_weight_g                        True              False   \n",
       "product_length_cm                      False               True   \n",
       "product_height_cm                       True              False   \n",
       "product_width_cm                        True               True   \n",
       "seller_zip_code_prefix                 False              False   \n",
       "\n",
       "                            product_height_cm  product_width_cm  \\\n",
       "customer_zip_code_prefix                False             False   \n",
       "review_score                            False             False   \n",
       "payment_sequential                      False             False   \n",
       "payment_installments                    False             False   \n",
       "payment_value                           False             False   \n",
       "order_item_id                           False             False   \n",
       "price                                   False             False   \n",
       "freight_value                           False             False   \n",
       "product_name_lenght                     False             False   \n",
       "product_description_lenght              False             False   \n",
       "product_photos_qty                      False             False   \n",
       "product_weight_g                         True              True   \n",
       "product_length_cm                       False              True   \n",
       "product_height_cm                        True             False   \n",
       "product_width_cm                        False              True   \n",
       "seller_zip_code_prefix                  False             False   \n",
       "\n",
       "                            seller_zip_code_prefix  \n",
       "customer_zip_code_prefix                     False  \n",
       "review_score                                 False  \n",
       "payment_sequential                           False  \n",
       "payment_installments                         False  \n",
       "payment_value                                False  \n",
       "order_item_id                                False  \n",
       "price                                        False  \n",
       "freight_value                                False  \n",
       "product_name_lenght                          False  \n",
       "product_description_lenght                   False  \n",
       "product_photos_qty                           False  \n",
       "product_weight_g                             False  \n",
       "product_length_cm                            False  \n",
       "product_height_cm                            False  \n",
       "product_width_cm                             False  \n",
       "seller_zip_code_prefix                        True  "
      ]
     },
     "execution_count": 42,
     "metadata": {},
     "output_type": "execute_result"
    }
   ],
   "source": [
    "abs(master_df.corr().round(2))>0.5"
   ]
  },
  {
   "cell_type": "code",
   "execution_count": 43,
   "metadata": {
    "scrolled": false
   },
   "outputs": [
    {
     "data": {
      "image/png": "[encoded data removed]",
      "text/plain": [
       "<Figure size 864x720 with 2 Axes>"
      ]
     },
     "metadata": {
      "needs_background": "light"
     },
     "output_type": "display_data"
    }
   ],
   "source": [
    "# we can see some correlation between our variables, we will use > 0.5 correlation to get a clearer view in our exploration\n",
    "\n",
    "plt.figure(figsize=(12,10))\n",
    "sns.heatmap(abs(master_df.corr().round(2))>0.5 , xticklabels=master_df.corr().columns, yticklabels=master_df.corr().columns, cmap='RdYlGn', center=0, annot=True)\n",
    "\n",
    "plt.title('Simplified Correlogram of Olist Master Dataframe', fontsize=22)\n",
    "plt.xticks(fontsize=12)\n",
    "plt.yticks(fontsize=12)\n",
    "plt.show()"
   ]
  },
  {
   "cell_type": "code",
   "execution_count": 44,
   "metadata": {},
   "outputs": [],
   "source": [
    "list_of_correlated_columns = []\n",
    "\n",
    "for i in (abs(master_df.corr().round(2))>0.5).columns:\n",
    "    for j in (abs(master_df.corr().round(2))>0.5).columns:\n",
    "        if ((abs(master_df.corr().round(2))>0.5).loc[i,j] == True):\n",
    "            list_of_correlated_columns.append((i,j))"
   ]
  },
  {
   "cell_type": "code",
   "execution_count": 45,
   "metadata": {},
   "outputs": [
    {
     "data": {
      "text/plain": [
       "str"
      ]
     },
     "execution_count": 45,
     "metadata": {},
     "output_type": "execute_result"
    }
   ],
   "source": [
    "type(list_of_correlated_columns[0][0])"
   ]
  },
  {
   "cell_type": "code",
   "execution_count": 46,
   "metadata": {},
   "outputs": [],
   "source": [
    "# gettng rid of the pairs constructed of the same variables\n",
    "list_of_correlated_columns_not_same = []\n",
    "\n",
    "for k in range(len(list_of_correlated_columns)):\n",
    "    if list_of_correlated_columns[k][0] != list_of_correlated_columns[k][1]:\n",
    "        list_of_correlated_columns_not_same.append((list_of_correlated_columns[k][0], list_of_correlated_columns[k][1]))\n"
   ]
  },
  {
   "cell_type": "code",
   "execution_count": 47,
   "metadata": {},
   "outputs": [
    {
     "data": {
      "text/plain": [
       "[('payment_value', 'price'),\n",
       " ('price', 'payment_value'),\n",
       " ('freight_value', 'product_weight_g'),\n",
       " ('product_weight_g', 'freight_value'),\n",
       " ('product_weight_g', 'product_height_cm'),\n",
       " ('product_weight_g', 'product_width_cm'),\n",
       " ('product_length_cm', 'product_width_cm'),\n",
       " ('product_height_cm', 'product_weight_g'),\n",
       " ('product_width_cm', 'product_weight_g'),\n",
       " ('product_width_cm', 'product_length_cm')]"
      ]
     },
     "execution_count": 47,
     "metadata": {},
     "output_type": "execute_result"
    }
   ],
   "source": [
    "list_of_correlated_columns_not_same"
   ]
  },
  {
   "cell_type": "code",
   "execution_count": 48,
   "metadata": {
    "scrolled": false
   },
   "outputs": [
    {
     "data": {
      "image/png": "[encoded data removed]",
      "text/plain": [
       "<Figure size 1008x576 with 1 Axes>"
      ]
     },
     "metadata": {
      "needs_background": "light"
     },
     "output_type": "display_data"
    }
   ],
   "source": [
    "# since we have see correlation between the product_weight_g and freight_value in the heatmap we will be drawing\n",
    "# scatter plot with a regression line.\n",
    "\n",
    "plt.figure(figsize=(14,8))\n",
    "\n",
    "product_weight_g_reg = master_df.groupby('customer_id').sum()[['product_weight_g','freight_value']].reset_index()['product_weight_g']\n",
    "freight_value_reg = master_df.groupby('customer_id').sum()[['product_weight_g','freight_value']].reset_index()['freight_value']\n",
    "sns.regplot(x=product_weight_g_reg, y=freight_value_reg, scatter_kws={'alpha':0.7, 'color':'skyblue'},\\\n",
    "           line_kws={'color':'red'});\n",
    "\n",
    "plt.title('Freight Value Vs. Product Weight Scatterplot'.title(), fontsize=22)\n",
    "plt.xlabel('Product Weight'.title(), fontsize=15)\n",
    "plt.ylabel('Freight Value'.title(), fontsize=15)\n",
    "\n",
    "plt.xticks(fontsize=12)\n",
    "plt.yticks(fontsize=12)\n",
    "plt.show()"
   ]
  },
  {
   "cell_type": "code",
   "execution_count": 49,
   "metadata": {},
   "outputs": [
    {
     "data": {
      "image/png": "[encoded data removed]",
      "text/plain": [
       "<Figure size 1008x576 with 1 Axes>"
      ]
     },
     "metadata": {
      "needs_background": "light"
     },
     "output_type": "display_data"
    }
   ],
   "source": [
    "plt.figure(figsize=(14,8))\n",
    "\n",
    "product_weight_g_reg = master_df.groupby('customer_id').sum()[['product_weight_g','freight_value']].reset_index()['product_weight_g']\n",
    "freight_value_reg = master_df.groupby('customer_id').sum()[['product_weight_g','freight_value']].reset_index()['freight_value']\n",
    "sns.regplot(x=product_weight_g_reg, y=freight_value_reg, scatter_kws={'alpha':0.7, 'color':'skyblue'},\\\n",
    "           line_kws={'color':'red'});\n",
    "\n",
    "plt.xlim(0, 200000)\n",
    "\n",
    "plt.title('Freight Value Vs. Product Weight Scatterplot'+'\\n'+'Zoomed on Product Weight Between 0g and 200000g', fontsize=22)\n",
    "plt.xlabel('Product Weight'.title(), fontsize=15)\n",
    "plt.ylabel('Freight Value'.title(), fontsize=15)\n",
    "\n",
    "plt.xticks(fontsize=12)\n",
    "plt.yticks(fontsize=12)\n",
    "plt.show()\n"
   ]
  },
  {
   "cell_type": "code",
   "execution_count": null,
   "metadata": {},
   "outputs": [],
   "source": [
    "# alot of outliers for the product weight\n",
    "plt.figure(figsize=(14,8))\n",
    "sns.boxplot(x=product_weight_g_reg, color='skyblue');\n",
    "\n",
    "plt.title('Boxplot For The Product Weights', fontsize=18);\n",
    "plt.xlabel('Product Weight'.title(), fontsize=12);"
   ]
  },
  {
   "cell_type": "code",
   "execution_count": null,
   "metadata": {},
   "outputs": [],
   "source": [
    "#taking up to the 90% quantile\n",
    "plt.figure(figsize=(14,8))\n",
    "\n",
    "sns.boxplot(x=product_weight_g_reg[product_weight_g_reg < product_weight_g_reg.quantile(0.90)], color='skyblue');\n",
    "plt.title('Boxplot For The Product Weights', fontsize=18);\n",
    "plt.xlabel('Product Weight'.title(), fontsize=12);"
   ]
  },
  {
   "cell_type": "code",
   "execution_count": null,
   "metadata": {},
   "outputs": [],
   "source": [
    "# altot of outliers in the freight value, we will be taking the 90% quantile\n",
    "plt.figure(figsize=(14,8))\n",
    "\n",
    "sns.boxplot(freight_value_reg, color='skyblue');\n",
    "\n",
    "plt.title('Boxplot For The Freight Value', fontsize=18);\n",
    "plt.xlabel('Freight Value'.title(), fontsize=12);"
   ]
  },
  {
   "cell_type": "code",
   "execution_count": null,
   "metadata": {},
   "outputs": [],
   "source": [
    "#taking up to the 90% quantile\n",
    "plt.figure(figsize=(14,8))\n",
    "\n",
    "sns.boxplot(freight_value_reg[freight_value_reg < freight_value_reg.quantile(0.90)], color='skyblue');\n",
    "\n",
    "plt.title('Boxplot For The Freight Value', fontsize=18);\n",
    "plt.xlabel('Freight Value'.title(), fontsize=12);"
   ]
  },
  {
   "cell_type": "code",
   "execution_count": null,
   "metadata": {},
   "outputs": [],
   "source": [
    "weight_freight_reg = pd.DataFrame({'product_weights':product_weight_g_reg, 'freight_value':freight_value_reg})"
   ]
  },
  {
   "cell_type": "code",
   "execution_count": null,
   "metadata": {},
   "outputs": [],
   "source": [
    "weight_freight_reg.iloc[:,1].head()"
   ]
  },
  {
   "cell_type": "code",
   "execution_count": null,
   "metadata": {},
   "outputs": [],
   "source": [
    "# ploting the regresion line with the 90% quantile, we can still see that a linear regression does not fit it well\n",
    "plt.figure(figsize=(14,8))\n",
    "\n",
    "quantile_weight_freight_reg = weight_freight_reg[weight_freight_reg < weight_freight_reg.quantile(0.9)]\n",
    "\n",
    "sns.regplot(quantile_weight_freight_reg['product_weights'] ,quantile_weight_freight_reg['freight_value'],\\\n",
    "            scatter_kws={'alpha':0.2, 'color':'skyblue'},\\\n",
    "            line_kws={'color':'red'});\n",
    "\n",
    "plt.title('Freight Value Vs. Product Weight Scatterplot'+'\\n'+'Using 90% Quantile' , fontsize=18);\n",
    "plt.ylabel('Freight Value'.title(), fontsize=12);\n",
    "plt.xlabel('Product Weight'.title(), fontsize=12);"
   ]
  },
  {
   "cell_type": "code",
   "execution_count": null,
   "metadata": {},
   "outputs": [],
   "source": []
  },
  {
   "cell_type": "code",
   "execution_count": null,
   "metadata": {
    "scrolled": false
   },
   "outputs": [],
   "source": [
    "# general exploration\n",
    "master_df.hist(figsize=(15,20), color='skyblue');"
   ]
  },
  {
   "cell_type": "markdown",
   "metadata": {},
   "source": [
    "## Univariable Plots\n",
    "\n",
    "* Type of payments distribution \n",
    "* Orders prices distribution \n",
    "* Count plot for states \n",
    "* Count plot for products category"
   ]
  },
  {
   "cell_type": "code",
   "execution_count": null,
   "metadata": {},
   "outputs": [],
   "source": [
    "# checking the payment types\n",
    "master_df.payment_type.unique()"
   ]
  },
  {
   "cell_type": "code",
   "execution_count": null,
   "metadata": {
    "scrolled": true
   },
   "outputs": [],
   "source": [
    "payment_type_count_plot_df = master_df[['payment_type','customer_id']].groupby(['customer_id', 'payment_type']).count().reset_index()"
   ]
  },
  {
   "cell_type": "code",
   "execution_count": null,
   "metadata": {
    "scrolled": false
   },
   "outputs": [],
   "source": [
    "# The customers seems to prefer to pay by credit card over other options\n",
    "\n",
    "plt.figure(figsize=(14,8))\n",
    "\n",
    "sns.countplot(payment_type_count_plot_df['payment_type']);\n",
    "\n",
    "plt.title('What is the most frequent payment type?'.title() , fontsize=20);\n",
    "plt.ylabel('count'.title(), fontsize=14);\n",
    "plt.xlabel('payment type'.title(), fontsize=14);"
   ]
  },
  {
   "cell_type": "code",
   "execution_count": null,
   "metadata": {},
   "outputs": [],
   "source": [
    "master_df.groupby('customer_id').sum().reset_index()['payment_value'].describe()"
   ]
  },
  {
   "cell_type": "code",
   "execution_count": null,
   "metadata": {},
   "outputs": [],
   "source": [
    "#### the price distribution of the invoices in right skewed as we see below, if we want to display the maximum values we will end up with no insights on the graph.\n",
    "\n",
    "plt.figure(figsize=(14,8))\n",
    "\n",
    "min_order_payment_value = min(master_df.groupby('customer_id').sum().reset_index()['payment_value'])\n",
    "max_order_payment_value = max(master_df.groupby('customer_id').sum().reset_index()['payment_value'])\n",
    "\n",
    "bins= np.linspace(start=min_order_payment_value, stop=1400, num=50)\n",
    "plt.hist(x=np.asarray(master_df.groupby('customer_id').sum().reset_index()['payment_value']), bins=bins,\\\n",
    "         color='skyblue');\n",
    "\n",
    "plt.title('payment value distribution per customer'.title()+'\\n'+'Between 0LCU and 1,400LCU' , fontsize=20);\n",
    "plt.ylabel('count'.title(), fontsize=14, rotation=90);\n",
    "plt.xlabel('payment value'.title(), fontsize=14);\n"
   ]
  },
  {
   "cell_type": "code",
   "execution_count": null,
   "metadata": {},
   "outputs": [],
   "source": [
    "# the price distribution of the invoices in right skewed as we see below, if we want to display the maximum values we will end up with no insights on the graph.\n",
    "\n",
    "plt.figure(figsize=(14,8))\n",
    "\n",
    "bins= np.linspace(start=1400, stop=max_order_payment_value, num=60)\n",
    "plt.hist(x=np.asarray(master_df.groupby('customer_id').sum().reset_index()['payment_value']), bins=bins,\\\n",
    "         color='skyblue');\n",
    "\n",
    "plt.xlim(0,110000);\n",
    "plt.title('payment value distribution per customer'.title()+'\\n'+'Between 1400LCU and 110,000LCU' , fontsize=20);\n",
    "plt.ylabel('count'.title(), fontsize=14);\n",
    "plt.xlabel('payment value'.title(), fontsize=14);\n"
   ]
  },
  {
   "cell_type": "code",
   "execution_count": null,
   "metadata": {
    "scrolled": true
   },
   "outputs": [],
   "source": [
    "customer_state_count_df = master_df.groupby(['customer_id','customer_state']).count().reset_index()"
   ]
  },
  {
   "cell_type": "code",
   "execution_count": null,
   "metadata": {},
   "outputs": [],
   "source": [
    "plt.figure(figsize=(14,8))\n",
    "sns.countplot(customer_state_count_df.customer_state, order=customers_dataset_df.customer_state.value_counts().index);\n",
    "\n",
    "plt.title('What is the most frequent customer state?'.title(), fontsize=20);\n",
    "plt.ylabel('count'.title(), fontsize=14);\n",
    "plt.xlabel('customer state'.title(), fontsize=14);\n",
    "\n",
    "plt.xticks(fontsize=12)\n",
    "plt.yticks(fontsize=12)\n",
    "plt.show()"
   ]
  },
  {
   "cell_type": "code",
   "execution_count": 51,
   "metadata": {},
   "outputs": [],
   "source": [
    "# adding the translated product name category to the data_frame to use it in the following plots.\n",
    "master_df_with_product_categories = master_df.merge(product_category_name_translation_df, how='left', on='product_category_name');"
   ]
  },
  {
   "cell_type": "code",
   "execution_count": 52,
   "metadata": {},
   "outputs": [
    {
     "data": {
      "image/png": "[encoded data removed]",
      "text/plain": [
       "<Figure size 1008x576 with 1 Axes>"
      ]
     },
     "metadata": {
      "needs_background": "light"
     },
     "output_type": "display_data"
    }
   ],
   "source": [
    "plt.figure(figsize=(14,8))\n",
    "\n",
    "sns.countplot(master_df_with_product_categories.product_category_name_english,#\n",
    "              order=master_df_with_product_categories.product_category_name_english.value_counts().index)\n",
    "\n",
    "plt.title('What is the most in demand product category?'.title(), fontsize=20);\n",
    "plt.ylabel('count'.title(), fontsize=14);\n",
    "plt.xlabel('product category'.title(), fontsize=14);\n",
    "\n",
    "plt.xticks(rotation=90, fontsize=10);\n",
    "plt.yticks(fontsize=12)\n",
    "plt.show()"
   ]
  },
  {
   "cell_type": "markdown",
   "metadata": {},
   "source": [
    "## Bivariable plots\n",
    "\n",
    "* Mean score vs products category (Bar plot)\n",
    "* Mean score vs city (Bar plot)\n",
    "* Order Price vs Freight Price (Scatter plot)"
   ]
  },
  {
   "cell_type": "code",
   "execution_count": null,
   "metadata": {
    "scrolled": true
   },
   "outputs": [],
   "source": [
    "mean_score_vs_cat_df = master_df_with_product_categories.groupby(['product_category_name_english']).mean()['review_score'].reset_index()"
   ]
  },
  {
   "cell_type": "code",
   "execution_count": null,
   "metadata": {},
   "outputs": [],
   "source": [
    "# The on average the best product category rating wise is that of cds_dvds_musicals, and the securit_and_services seems to have\n",
    "# the lowest rating.\n",
    "\n",
    "plt.figure(figsize=(14,8))\n",
    "\n",
    "sns.barplot(data = master_df_with_product_categories, x='product_category_name_english', y='review_score',\\\n",
    "           order = master_df_with_product_categories.groupby('product_category_name_english').mean()\\\n",
    "            .reset_index().sort_values('review_score', ascending=False)['product_category_name_english'].values,\n",
    "           errcolor = 'grey');\n",
    "\n",
    "plt.title('what is the most highly rated product category?'.title(), fontsize=20);\n",
    "plt.ylabel('Average Review Score'.title(), fontsize=14);\n",
    "plt.xlabel('Product Category'.title(), fontsize=14);\n",
    "\n",
    "plt.xticks(rotation=90, fontsize= 10);\n",
    "plt.yticks(fontsize=12)\n",
    "plt.show()"
   ]
  },
  {
   "cell_type": "code",
   "execution_count": null,
   "metadata": {},
   "outputs": [],
   "source": [
    "# The nicest state ?\n",
    "\n",
    "plt.figure(figsize=(14,8))\n",
    "\n",
    "sns.barplot(data = master_df_with_product_categories, x='customer_state', y='review_score',\\\n",
    "           order = master_df_with_product_categories.groupby('customer_state').mean()\\\n",
    "            .reset_index().sort_values('review_score', ascending=False)['customer_state'].values,\n",
    "           errcolor = 'grey');\n",
    "\n",
    "\n",
    "plt.title('what is the nicest customer state?'.title(), fontsize=20);\n",
    "plt.ylabel('Average Review Score'.title(), fontsize=14);\n",
    "plt.xlabel('customer state'.title(), fontsize=14);\n",
    "\n",
    "plt.xticks(rotation=0, fontsize= 12);\n",
    "plt.yticks(fontsize=12)\n",
    "plt.show()"
   ]
  },
  {
   "cell_type": "code",
   "execution_count": 53,
   "metadata": {
    "scrolled": true
   },
   "outputs": [],
   "source": [
    "# is there any relationship between the price of the order and the price of the freight? no\n",
    "\n",
    "payment_vs_freight_df = master_df_with_product_categories.groupby('customer_id').sum().reset_index()[['payment_value','freight_value']]\n"
   ]
  },
  {
   "cell_type": "code",
   "execution_count": 54,
   "metadata": {},
   "outputs": [
    {
     "data": {
      "image/png": "[encoded data removed]",
      "text/plain": [
       "<Figure size 1008x576 with 1 Axes>"
      ]
     },
     "metadata": {
      "needs_background": "light"
     },
     "output_type": "display_data"
    }
   ],
   "source": [
    "plt.figure(figsize=(14,8))\n",
    "sns.regplot(data=payment_vs_freight_df, x=payment_vs_freight_df.payment_value, y=payment_vs_freight_df.freight_value,\n",
    "            scatter_kws={'alpha':0.7, 'color':'skyblue'}, line_kws={'color':'red'});\n",
    "plt.xlim(0,20000);\n",
    "\n",
    "plt.title('Payment Vs. Freight value'.title(), fontsize=20);\n",
    "plt.ylabel('Freight value'.title(), fontsize=14);\n",
    "plt.xlabel('Payment Value'.title(), fontsize=14);\n",
    "\n",
    "plt.xticks(rotation=0, fontsize= 12);\n",
    "plt.yticks(fontsize=12)\n",
    "plt.show()"
   ]
  },
  {
   "cell_type": "markdown",
   "metadata": {},
   "source": [
    "## Multivariable Plots\n",
    "* Payment value vs. month vs. year"
   ]
  },
  {
   "cell_type": "code",
   "execution_count": null,
   "metadata": {},
   "outputs": [],
   "source": [
    "master_df_with_product_categories['year'] = pd.DatetimeIndex(master_df_with_product_categories['order_purchase_timestamp']).year"
   ]
  },
  {
   "cell_type": "code",
   "execution_count": null,
   "metadata": {},
   "outputs": [],
   "source": [
    "master_df_with_product_categories['month'] = pd.DatetimeIndex(master_df_with_product_categories['order_purchase_timestamp']).month "
   ]
  },
  {
   "cell_type": "code",
   "execution_count": null,
   "metadata": {},
   "outputs": [],
   "source": [
    "master_df_with_product_categories.groupby(['year','month']).sum()['payment_value']"
   ]
  },
  {
   "cell_type": "code",
   "execution_count": null,
   "metadata": {
    "scrolled": false
   },
   "outputs": [],
   "source": [
    "multivariable_plot_df = master_df_with_product_categories.groupby(['year','month']).sum()['payment_value'].reset_index()\n",
    "multivariable_plot_df\n"
   ]
  },
  {
   "cell_type": "code",
   "execution_count": null,
   "metadata": {
    "scrolled": false
   },
   "outputs": [],
   "source": [
    "g = sns.FacetGrid(data=multivariable_plot_df, row = 'year', height=7, aspect=2.5, sharey=True)\n",
    "\n",
    "g = g.map(plt.bar, 'month', 'payment_value', color='skyblue')\n",
    "g.set_titles( size=20);\n",
    "g.set_ylabels('Payment Value'.title(), size=14);\n",
    "g.set_xlabels('months'.title(), size=14);\n",
    "\n"
   ]
  },
  {
   "cell_type": "markdown",
   "metadata": {},
   "source": [
    "# Machine Learning Applications\n",
    "* Clustering customers based on customers data\n",
    "* Customer Life Time Value prediction"
   ]
  },
  {
   "cell_type": "markdown",
   "metadata": {},
   "source": [
    "## Clustering Customers Based On Review Rating and Purchase Power \n",
    "## (Unsupervised Learning)"
   ]
  },
  {
   "cell_type": "code",
   "execution_count": 55,
   "metadata": {
    "scrolled": true
   },
   "outputs": [],
   "source": [
    "clustering_customers_df = master_df_with_product_categories[['customer_unique_id','customer_id','payment_value','review_score']]\\\n",
    ".groupby('customer_unique_id').agg({'payment_value': 'sum', 'review_score': 'mean', 'customer_id':'count'}).reset_index()"
   ]
  },
  {
   "cell_type": "code",
   "execution_count": 56,
   "metadata": {},
   "outputs": [
    {
     "data": {
      "text/html": [
       "<div>\n",
       "<style scoped>\n",
       "    .dataframe tbody tr th:only-of-type {\n",
       "        vertical-align: middle;\n",
       "    }\n",
       "\n",
       "    .dataframe tbody tr th {\n",
       "        vertical-align: top;\n",
       "    }\n",
       "\n",
       "    .dataframe thead th {\n",
       "        text-align: right;\n",
       "    }\n",
       "</style>\n",
       "<table border=\"1\" class=\"dataframe\">\n",
       "  <thead>\n",
       "    <tr style=\"text-align: right;\">\n",
       "      <th></th>\n",
       "      <th>payment_value</th>\n",
       "      <th>review_score</th>\n",
       "      <th>customer_id</th>\n",
       "    </tr>\n",
       "  </thead>\n",
       "  <tbody>\n",
       "    <tr>\n",
       "      <td>count</td>\n",
       "      <td>94094.000000</td>\n",
       "      <td>94094.000000</td>\n",
       "      <td>94094.000000</td>\n",
       "    </tr>\n",
       "    <tr>\n",
       "      <td>mean</td>\n",
       "      <td>214.260035</td>\n",
       "      <td>4.089008</td>\n",
       "      <td>1.239091</td>\n",
       "    </tr>\n",
       "    <tr>\n",
       "      <td>std</td>\n",
       "      <td>647.342304</td>\n",
       "      <td>1.336968</td>\n",
       "      <td>0.850587</td>\n",
       "    </tr>\n",
       "    <tr>\n",
       "      <td>min</td>\n",
       "      <td>9.590000</td>\n",
       "      <td>1.000000</td>\n",
       "      <td>1.000000</td>\n",
       "    </tr>\n",
       "    <tr>\n",
       "      <td>25%</td>\n",
       "      <td>64.000000</td>\n",
       "      <td>4.000000</td>\n",
       "      <td>1.000000</td>\n",
       "    </tr>\n",
       "    <tr>\n",
       "      <td>50%</td>\n",
       "      <td>113.150000</td>\n",
       "      <td>5.000000</td>\n",
       "      <td>1.000000</td>\n",
       "    </tr>\n",
       "    <tr>\n",
       "      <td>75%</td>\n",
       "      <td>203.770000</td>\n",
       "      <td>5.000000</td>\n",
       "      <td>1.000000</td>\n",
       "    </tr>\n",
       "    <tr>\n",
       "      <td>max</td>\n",
       "      <td>109312.640000</td>\n",
       "      <td>5.000000</td>\n",
       "      <td>75.000000</td>\n",
       "    </tr>\n",
       "  </tbody>\n",
       "</table>\n",
       "</div>"
      ],
      "text/plain": [
       "       payment_value  review_score   customer_id\n",
       "count   94094.000000  94094.000000  94094.000000\n",
       "mean      214.260035      4.089008      1.239091\n",
       "std       647.342304      1.336968      0.850587\n",
       "min         9.590000      1.000000      1.000000\n",
       "25%        64.000000      4.000000      1.000000\n",
       "50%       113.150000      5.000000      1.000000\n",
       "75%       203.770000      5.000000      1.000000\n",
       "max    109312.640000      5.000000     75.000000"
      ]
     },
     "execution_count": 56,
     "metadata": {},
     "output_type": "execute_result"
    }
   ],
   "source": [
    "clustering_customers_df.describe()"
   ]
  },
  {
   "cell_type": "code",
   "execution_count": null,
   "metadata": {},
   "outputs": [],
   "source": [
    "# lets check the scatter\n",
    "plt.figure(figsize=(14,8));\n",
    "\n",
    "plt.scatter( clustering_customers_df.payment_value, clustering_customers_df.review_score, color='skyblue');\n",
    "plt.xlim(0,35000);\n",
    "\n",
    "\n",
    "plt.title('Payment value vs. review score (Not Scaled)'.title(), fontsize=20);\n",
    "plt.ylabel('review score'.title(), fontsize=14);\n",
    "plt.xlabel('Payment value'.title(), fontsize=14);\n",
    "\n",
    "plt.xticks(rotation=0, fontsize= 12);\n",
    "plt.yticks(fontsize=12)\n",
    "plt.show()"
   ]
  },
  {
   "cell_type": "code",
   "execution_count": null,
   "metadata": {},
   "outputs": [],
   "source": []
  },
  {
   "cell_type": "code",
   "execution_count": null,
   "metadata": {},
   "outputs": [],
   "source": [
    "plt.figure(figsize=(14,8))\n",
    "\n",
    "bins= np.linspace(start=0, stop=1400, num=50)\n",
    "plt.hist(x=np.asarray(clustering_customers_df.payment_value), bins=bins, color='skyblue');\n",
    "\n",
    "plt.title('Payment value distribution'.title(), fontsize=20);\n",
    "plt.ylabel('count'.title(), fontsize=14);\n",
    "plt.xlabel('Payment value'.title(), fontsize=14);\n",
    "\n",
    "plt.xticks(rotation=0, fontsize= 12);\n",
    "plt.yticks(fontsize=12)\n",
    "plt.show()"
   ]
  },
  {
   "cell_type": "code",
   "execution_count": null,
   "metadata": {},
   "outputs": [],
   "source": [
    "clustering_customers_df.payment_value.describe()"
   ]
  },
  {
   "cell_type": "code",
   "execution_count": null,
   "metadata": {},
   "outputs": [],
   "source": []
  },
  {
   "cell_type": "code",
   "execution_count": null,
   "metadata": {},
   "outputs": [],
   "source": [
    "plt.figure(figsize=(14,8))\n",
    "sns.scatterplot(x=scale(clustering_customers_df.payment_value), y=scale(clustering_customers_df.review_score), alpha=0.8,\\\n",
    "                x_jitter=0.5, y_jitter=0.5, s=80, data=clustering_customers_df, color='skyblue');\n",
    "\n",
    "plt.title('Payment value vs. review score (scaled)'.title(), fontsize=20);\n",
    "plt.ylabel('review score'.title(), fontsize=14);\n",
    "plt.xlabel('Payment value'.title(), fontsize=14);\n",
    "\n",
    "plt.xticks(rotation=0, fontsize= 12);\n",
    "plt.yticks(fontsize=12)\n",
    "plt.show()"
   ]
  },
  {
   "cell_type": "code",
   "execution_count": null,
   "metadata": {},
   "outputs": [],
   "source": [
    "scale(clustering_customers_df.review_score).mean()"
   ]
  },
  {
   "cell_type": "code",
   "execution_count": null,
   "metadata": {
    "scrolled": true
   },
   "outputs": [],
   "source": [
    "clustering_customers_df['scaled_payment_value'] = scale(clustering_customers_df.payment_value)"
   ]
  },
  {
   "cell_type": "code",
   "execution_count": null,
   "metadata": {},
   "outputs": [],
   "source": [
    "clustering_customers_df['scaled_review_score'] = scale(clustering_customers_df.review_score)"
   ]
  },
  {
   "cell_type": "code",
   "execution_count": null,
   "metadata": {
    "scrolled": true
   },
   "outputs": [],
   "source": [
    "clustering_customers_df[['scaled_payment_value','scaled_review_score']]"
   ]
  },
  {
   "cell_type": "code",
   "execution_count": null,
   "metadata": {},
   "outputs": [],
   "source": [
    "# KMeans\n",
    "kmeans = KMeans(4)\n",
    "kmeans.fit(clustering_customers_df[['scaled_payment_value','scaled_review_score']])\n",
    "clusters = clustering_customers_df[['scaled_payment_value','scaled_review_score']].copy()\n",
    "clustering_customers_df['cluster_pred'] = kmeans.fit_predict(clusters)"
   ]
  },
  {
   "cell_type": "code",
   "execution_count": null,
   "metadata": {
    "scrolled": true
   },
   "outputs": [],
   "source": [
    "clustering_customers_df"
   ]
  },
  {
   "cell_type": "code",
   "execution_count": null,
   "metadata": {},
   "outputs": [],
   "source": [
    "plt.figure(figsize=(14,8))\n",
    "ax = sns.scatterplot(x=scale(clustering_customers_df.payment_value), y=scale(clustering_customers_df.review_score), alpha=0.8,\\\n",
    "                x_jitter=0.5, y_jitter=0.5, hue='cluster_pred', data=clustering_customers_df,\\\n",
    "               s=80, palette=sns.color_palette(\"hls\", 4));\n",
    "\n",
    "\n",
    "plt.setp(ax.get_legend().get_title(), fontsize='25')\n",
    "plt.setp(ax.get_legend().get_texts(), fontsize='20')\n",
    "plt.title('Clustering Customers'+'\\n'+'Payment vaue vs. review score (4 clusters scaled)'.title(), fontsize=20);\n",
    "plt.ylabel('review score'.title(), fontsize=14);\n",
    "plt.xlabel('Payment value'.title(), fontsize=14);\n",
    "\n",
    "plt.xticks(rotation=0, fontsize= 12);\n",
    "plt.yticks(fontsize=12)\n",
    "plt.show()"
   ]
  },
  {
   "cell_type": "markdown",
   "metadata": {},
   "source": [
    "## Implementing the Elbow Method to choose the number of clusters"
   ]
  },
  {
   "cell_type": "code",
   "execution_count": null,
   "metadata": {},
   "outputs": [],
   "source": [
    "# The Elbow method is mainly about plotting the Within Cluster Standard Error (WCSS) vs the Number of Clusters used.\n",
    "# And we will be checking for a number of clusters that forms an elbow shape, meaning that the slope of our line changes highly when it\n",
    "# goes into the number of clusters,(Slope_line_before_x_clusters+point != Slope_line_after_x_clusters_point)\n",
    "\n",
    "wcss = []\n",
    "for i in range(1,10):\n",
    "    kmeans = KMeans(i)\n",
    "    kmeans.fit(clustering_customers_df[['scaled_payment_value','scaled_review_score']])\n",
    "    wcss.append(kmeans.inertia_)"
   ]
  },
  {
   "cell_type": "code",
   "execution_count": null,
   "metadata": {},
   "outputs": [],
   "source": [
    "# 3 seems to have a good change in wcss, we will try it.\n",
    "plt.figure(figsize=(14,8))\n",
    "\n",
    "plt.plot(range(1,10), wcss, linewidth=4);\n",
    "plt.xlabel('Number of clusters'.title())\n",
    "plt.ylabel('wcss'.title())\n",
    "\n",
    "plt.title('WCSS vs. Number of Clusters', fontsize=20);\n",
    "plt.ylabel('WCSS', fontsize=14);\n",
    "plt.xlabel('Number of Clusters'.title(), fontsize=14);\n",
    "\n",
    "plt.xticks(rotation=0, fontsize= 12);\n",
    "plt.yticks(fontsize=12)\n",
    "plt.show()"
   ]
  },
  {
   "cell_type": "code",
   "execution_count": null,
   "metadata": {
    "scrolled": true
   },
   "outputs": [],
   "source": [
    "kmeans_new = KMeans(3)\n",
    "kmeans_new.fit(clustering_customers_df[['scaled_payment_value','scaled_review_score']])\n",
    "clustering_customers_df['clusters_new_3'] = kmeans_new.fit_predict(clustering_customers_df[['scaled_payment_value','scaled_review_score']])\n",
    "clustering_customers_df"
   ]
  },
  {
   "cell_type": "code",
   "execution_count": null,
   "metadata": {},
   "outputs": [],
   "source": [
    "plt.figure(figsize=(14,8))\n",
    "ax= sns.scatterplot(x=scale(clustering_customers_df.payment_value), y=scale(clustering_customers_df.review_score), alpha=0.8,\\\n",
    "                x_jitter=0.5, y_jitter=0.5, hue='clusters_new_3', data=clustering_customers_df,\\\n",
    "               s=80, palette=sns.color_palette(\"hls\", 3));\n",
    "\n",
    "\n",
    "plt.setp(ax.get_legend().get_title(), fontsize='25')\n",
    "plt.setp(ax.get_legend().get_texts(), fontsize='20')\n",
    "plt.title('Clustering Customers'+'\\n'+'Payment value vs. review score (3 clusters scaled)'.title(), fontsize=20);\n",
    "plt.ylabel('review score'.title(), fontsize=14);\n",
    "plt.xlabel('Payment value'.title(), fontsize=14);\n",
    "\n",
    "plt.xticks(rotation=0, fontsize= 12);\n",
    "plt.yticks(fontsize=12)\n",
    "plt.show()"
   ]
  },
  {
   "cell_type": "code",
   "execution_count": null,
   "metadata": {
    "scrolled": true
   },
   "outputs": [],
   "source": [
    "# from a business point of view I believe the last cluster seem to be a group of outliers,\n",
    "#they have alot of purchase power, some of them are satistfied some are not, if we isolate this group, it is better to use 5 \n",
    "# clusters is order to have the for typical clusters: Fans, supporters, Roamers, Alienated, in addition to our case, the group of outliers\n",
    "\n",
    "kmeans_new_5 = KMeans(5)\n",
    "kmeans_new_5.fit(clustering_customers_df[['scaled_payment_value','scaled_review_score']])\n",
    "clustering_customers_df['clusters_new_5'] = kmeans_new_5.fit_predict(clustering_customers_df[['scaled_payment_value','scaled_review_score']])\n",
    "clustering_customers_df"
   ]
  },
  {
   "cell_type": "code",
   "execution_count": null,
   "metadata": {},
   "outputs": [],
   "source": [
    "# as we see no real added value happened to our clustering of 5, which validate the Elbow method, since on the graph we do not see\n",
    "# any real change in the WCSS with the increase of number of clusters.\n",
    "\n",
    "plt.figure(figsize=(14,8))\n",
    "\n",
    "ax = sns.scatterplot(x=scale(clustering_customers_df.payment_value), y=scale(clustering_customers_df.review_score), alpha=0.8,\\\n",
    "                x_jitter=0.5, y_jitter=0.5, hue='clusters_new_5', data=clustering_customers_df,\\\n",
    "               s=80, palette=sns.color_palette(\"husl\", 5));\n",
    "\n",
    "\n",
    "plt.setp(ax.get_legend().get_title(), fontsize='25')\n",
    "plt.setp(ax.get_legend().get_texts(), fontsize='20')\n",
    "plt.title('Clustering Customers'+'\\n'+'Payment value vs. review score (5 clusters scaled)'.title(), fontsize=20);\n",
    "plt.ylabel('review score'.title(), fontsize=14);\n",
    "plt.xlabel('Payment value'.title(), fontsize=14);\n",
    "\n",
    "plt.xticks(rotation=0, fontsize= 12);\n",
    "plt.yticks(fontsize=12)\n",
    "plt.show()"
   ]
  }
 ],
 "metadata": {
  "kernelspec": {
   "display_name": "Python 3",
   "language": "python",
   "name": "python3"
  },
  "language_info": {
   "codemirror_mode": {
    "name": "ipython",
    "version": 3
   },
   "file_extension": ".py",
   "mimetype": "text/x-python",
   "name": "python",
   "nbconvert_exporter": "python",
   "pygments_lexer": "ipython3",
   "version": "3.7.4"
  }
 },
 "nbformat": 4,
 "nbformat_minor": 1
}
