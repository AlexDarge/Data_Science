{
 "cells": [
  {
   "cell_type": "code",
   "execution_count": 1,
   "metadata": {},
   "outputs": [],
   "source": [
    "# import os   #cette ligneet celle du dessous sonts sensées trouver la pathing du fichier csv qu'on veut ouvrir avec PANDAS \n",
    "# os.getcwd()\n",
    "import numpy as np\n",
    "import pandas as pd\n",
    "import statsmodels.api as sm\n",
    "%matplotlib inline\n",
    "import matplotlib.pyplot as plt\n",
    "import seaborn as sns\n",
    "sns.set()\n",
    "\n",
    "# pd.options.display.max_rows = 10000\n",
    "\n",
    "from IPython.core.interactiveshell import InteractiveShell\n",
    "InteractiveShell.ast_node_interactivity = \"all\""
   ]
  },
  {
   "cell_type": "markdown",
   "metadata": {},
   "source": [
    "## Lecture des données"
   ]
  },
  {
   "cell_type": "code",
   "execution_count": 2,
   "metadata": {},
   "outputs": [],
   "source": [
    "# Lecture de notre data pricipal :\n",
    "\n",
    "data = pd.read_csv('data/EdStatsData.csv')\n"
   ]
  },
  {
   "cell_type": "markdown",
   "metadata": {},
   "source": [
    "## Pré-selection des données "
   ]
  },
  {
   "cell_type": "code",
   "execution_count": 3,
   "metadata": {},
   "outputs": [
    {
     "data": {
      "text/plain": [
       "Country Name      886930\n",
       "Country Code      886930\n",
       "Indicator Name    886930\n",
       "Indicator Code    886930\n",
       "1970               72288\n",
       "                   ...  \n",
       "2085               51436\n",
       "2090               51436\n",
       "2095               51436\n",
       "2100               51436\n",
       "Unnamed: 69            0\n",
       "Length: 70, dtype: int64"
      ]
     },
     "execution_count": 3,
     "metadata": {},
     "output_type": "execute_result"
    },
    {
     "data": {
      "text/html": [
       "<div>\n",
       "<style scoped>\n",
       "    .dataframe tbody tr th:only-of-type {\n",
       "        vertical-align: middle;\n",
       "    }\n",
       "\n",
       "    .dataframe tbody tr th {\n",
       "        vertical-align: top;\n",
       "    }\n",
       "\n",
       "    .dataframe thead th {\n",
       "        text-align: right;\n",
       "    }\n",
       "</style>\n",
       "<table border=\"1\" class=\"dataframe\">\n",
       "  <thead>\n",
       "    <tr style=\"text-align: right;\">\n",
       "      <th></th>\n",
       "      <th>Indicator Code</th>\n",
       "      <th>Indicator Name</th>\n",
       "      <th>Country Code</th>\n",
       "      <th>Year</th>\n",
       "      <th>value</th>\n",
       "    </tr>\n",
       "  </thead>\n",
       "  <tbody>\n",
       "    <tr>\n",
       "      <th>589865</th>\n",
       "      <td>PRJ.ATT.2064.NED.FE</td>\n",
       "      <td>Wittgenstein Projection: Percentage of the pop...</td>\n",
       "      <td>MMR</td>\n",
       "      <td>2015</td>\n",
       "      <td>0.050000</td>\n",
       "    </tr>\n",
       "    <tr>\n",
       "      <th>443214</th>\n",
       "      <td>PRJ.ATT.1519.4.FE</td>\n",
       "      <td>Wittgenstein Projection: Percentage of the pop...</td>\n",
       "      <td>ITA</td>\n",
       "      <td>2015</td>\n",
       "      <td>0.000000</td>\n",
       "    </tr>\n",
       "    <tr>\n",
       "      <th>115573</th>\n",
       "      <td>SE.SEC.TCAQ.MA.ZS</td>\n",
       "      <td>Percentage of male teachers in secondary educa...</td>\n",
       "      <td>ATG</td>\n",
       "      <td>2015</td>\n",
       "      <td>72.105263</td>\n",
       "    </tr>\n",
       "    <tr>\n",
       "      <th>157369</th>\n",
       "      <td>PRJ.ATT.2024.3.MA</td>\n",
       "      <td>Wittgenstein Projection: Percentage of the pop...</td>\n",
       "      <td>BLR</td>\n",
       "      <td>2015</td>\n",
       "      <td>0.820000</td>\n",
       "    </tr>\n",
       "    <tr>\n",
       "      <th>498422</th>\n",
       "      <td>PRJ.POP.ALL.NED.MF</td>\n",
       "      <td>Wittgenstein Projection: Population in thousan...</td>\n",
       "      <td>LSO</td>\n",
       "      <td>2015</td>\n",
       "      <td>113.910000</td>\n",
       "    </tr>\n",
       "  </tbody>\n",
       "</table>\n",
       "</div>"
      ],
      "text/plain": [
       "             Indicator Code  \\\n",
       "589865  PRJ.ATT.2064.NED.FE   \n",
       "443214    PRJ.ATT.1519.4.FE   \n",
       "115573    SE.SEC.TCAQ.MA.ZS   \n",
       "157369    PRJ.ATT.2024.3.MA   \n",
       "498422   PRJ.POP.ALL.NED.MF   \n",
       "\n",
       "                                           Indicator Name Country Code  Year  \\\n",
       "589865  Wittgenstein Projection: Percentage of the pop...          MMR  2015   \n",
       "443214  Wittgenstein Projection: Percentage of the pop...          ITA  2015   \n",
       "115573  Percentage of male teachers in secondary educa...          ATG  2015   \n",
       "157369  Wittgenstein Projection: Percentage of the pop...          BLR  2015   \n",
       "498422  Wittgenstein Projection: Population in thousan...          LSO  2015   \n",
       "\n",
       "             value  \n",
       "589865    0.050000  \n",
       "443214    0.000000  \n",
       "115573   72.105263  \n",
       "157369    0.820000  \n",
       "498422  113.910000  "
      ]
     },
     "execution_count": 3,
     "metadata": {},
     "output_type": "execute_result"
    }
   ],
   "source": [
    "# On remarque que l'année 2015 est la plus remplie et la plus récente au meme temps, donc je decide de selectionner l'année 2015 pour l'étude\n",
    "data.count()\n",
    "\n",
    "# Selection des data pour l'année 2015:\n",
    "\n",
    "data = data.drop(['Country Name','Unnamed: 69'], axis=1)\n",
    "data = data.drop(data.loc[:,'1970':'2014'], axis=1)\n",
    "data = data.drop(data.loc[:,'2016':'2100'], axis=1)\n",
    "\n",
    "#creation d'une colone supplementaire 'Year' et \"value\" pour avoir l'année et sa valeur separemment\n",
    "data = pd.melt(data,id_vars = ['Indicator Code','Indicator Name','Country Code',],var_name='Year')\n",
    "\n",
    "# on drop les indicateurs qui n'ont aucune valeurs renseigné pour cette année, on peut faire cela car on étudie sur une année seulement donc d'autre cas il faudra choisir\n",
    "# combien de valeurs null qu'on peut se permetrre avec thresh = \n",
    "data = data.dropna()\n",
    "\n",
    "data.sample(5)\n",
    "\n"
   ]
  },
  {
   "cell_type": "markdown",
   "metadata": {},
   "source": [
    "# Analyse des continents et groupes de pays "
   ]
  },
  {
   "cell_type": "code",
   "execution_count": 4,
   "metadata": {},
   "outputs": [
    {
     "data": {
      "text/plain": [
       "Population, ages 15-64 (% of total)                                          7\n",
       "Population, male (% of total)                                                5\n",
       "Unemployment, total (% of total labor force)                                 5\n",
       "Labor force, female (% of total labor force)                                 5\n",
       "Population, male                                                             5\n",
       "Population, ages 0-14, male                                                  5\n",
       "Unemployment, female (% of female labor force)                               5\n",
       "GNI per capita, Atlas method (current US$)                                   5\n",
       "Internet users (per 100 people)                                              5\n",
       "GDP, PPP (current international $)                                           5\n",
       "Population, ages 0-14, female                                                5\n",
       "Population, ages 15-64, male                                                 5\n",
       "Unemployment, male (% of male labor force)                                   5\n",
       "Population, female (% of total)                                              5\n",
       "GNI per capita, PPP (current international $)                                5\n",
       "Population, ages 15-64, female                                               5\n",
       "GDP per capita, PPP (constant 2011 international $)                          5\n",
       "GNI (current US$)                                                            5\n",
       "GDP per capita (current US$)                                                 5\n",
       "Population, ages 15-64, total                                                5\n",
       "GDP at market prices (constant 2005 US$)                                     5\n",
       "Mortality rate, under-5 (per 1,000)                                          5\n",
       "Population, ages 0-14 (% of total)                                           5\n",
       "Population, ages 0-14, total                                                 5\n",
       "Population, total                                                            5\n",
       "GDP per capita, PPP (current international $)                                5\n",
       "GDP per capita (constant 2005 US$)                                           5\n",
       "Population, female                                                           5\n",
       "GDP, PPP (constant 2011 international $)                                     5\n",
       "Labor force, total                                                           5\n",
       "GNI, PPP (current international $)                                           5\n",
       "Population growth (annual %)                                                 5\n",
       "GDP at market prices (current US$)                                           5\n",
       "Labor force with intermediate education (% of total)                         2\n",
       "Labor force with advanced education (% of total)                             2\n",
       "Prevalence of HIV, total (% of population ages 15-49)                        2\n",
       "Labor force with basic education (% of total)                                2\n",
       "Labor force with intermediate education, female (% of female labor force)    1\n",
       "Labor force with advanced education, male (% of male labor force)            1\n",
       "Labor force with advanced education, female (% of female labor force)        1\n",
       "Labor force with intermediate education, male (% of male labor force)        1\n",
       "Labor force with basic education, male (% of male labor force)               1\n",
       "Labor force with basic education, female (% of female labor force)           1\n",
       "Name: Indicator Name, dtype: int64"
      ]
     },
     "execution_count": 4,
     "metadata": {},
     "output_type": "execute_result"
    },
    {
     "data": {
      "text/html": [
       "<div>\n",
       "<style scoped>\n",
       "    .dataframe tbody tr th:only-of-type {\n",
       "        vertical-align: middle;\n",
       "    }\n",
       "\n",
       "    .dataframe tbody tr th {\n",
       "        vertical-align: top;\n",
       "    }\n",
       "\n",
       "    .dataframe thead th {\n",
       "        text-align: right;\n",
       "    }\n",
       "</style>\n",
       "<table border=\"1\" class=\"dataframe\">\n",
       "  <thead>\n",
       "    <tr style=\"text-align: right;\">\n",
       "      <th>Indicator Name</th>\n",
       "      <th>Country Code</th>\n",
       "      <th>GDP per capita (current US$)</th>\n",
       "      <th>GDP, PPP (current international $)</th>\n",
       "      <th>Internet users (per 100 people)</th>\n",
       "      <th>Labor force with basic education (% of total)</th>\n",
       "      <th>Labor force with intermediate education (% of total)</th>\n",
       "    </tr>\n",
       "  </thead>\n",
       "  <tbody>\n",
       "    <tr>\n",
       "      <th>0</th>\n",
       "      <td>EAS</td>\n",
       "      <td>9541.871089</td>\n",
       "      <td>3.678985e+13</td>\n",
       "      <td>49.787924</td>\n",
       "      <td>NaN</td>\n",
       "      <td>NaN</td>\n",
       "    </tr>\n",
       "    <tr>\n",
       "      <th>1</th>\n",
       "      <td>ECS</td>\n",
       "      <td>22442.214808</td>\n",
       "      <td>2.782289e+13</td>\n",
       "      <td>71.162003</td>\n",
       "      <td>36.455690</td>\n",
       "      <td>64.638529</td>\n",
       "    </tr>\n",
       "    <tr>\n",
       "      <th>2</th>\n",
       "      <td>LCN</td>\n",
       "      <td>8650.871589</td>\n",
       "      <td>9.684819e+12</td>\n",
       "      <td>54.279733</td>\n",
       "      <td>NaN</td>\n",
       "      <td>NaN</td>\n",
       "    </tr>\n",
       "    <tr>\n",
       "      <th>3</th>\n",
       "      <td>MEA</td>\n",
       "      <td>7336.969933</td>\n",
       "      <td>8.018712e+12</td>\n",
       "      <td>44.231819</td>\n",
       "      <td>NaN</td>\n",
       "      <td>NaN</td>\n",
       "    </tr>\n",
       "    <tr>\n",
       "      <th>4</th>\n",
       "      <td>NAC</td>\n",
       "      <td>55153.758209</td>\n",
       "      <td>1.970908e+13</td>\n",
       "      <td>75.941036</td>\n",
       "      <td>45.433732</td>\n",
       "      <td>60.104139</td>\n",
       "    </tr>\n",
       "  </tbody>\n",
       "</table>\n",
       "</div>"
      ],
      "text/plain": [
       "Indicator Name Country Code  GDP per capita (current US$)  \\\n",
       "0                       EAS                   9541.871089   \n",
       "1                       ECS                  22442.214808   \n",
       "2                       LCN                   8650.871589   \n",
       "3                       MEA                   7336.969933   \n",
       "4                       NAC                  55153.758209   \n",
       "\n",
       "Indicator Name  GDP, PPP (current international $)  \\\n",
       "0                                     3.678985e+13   \n",
       "1                                     2.782289e+13   \n",
       "2                                     9.684819e+12   \n",
       "3                                     8.018712e+12   \n",
       "4                                     1.970908e+13   \n",
       "\n",
       "Indicator Name  Internet users (per 100 people)  \\\n",
       "0                                     49.787924   \n",
       "1                                     71.162003   \n",
       "2                                     54.279733   \n",
       "3                                     44.231819   \n",
       "4                                     75.941036   \n",
       "\n",
       "Indicator Name  Labor force with basic education (% of total)  \\\n",
       "0                                                         NaN   \n",
       "1                                                   36.455690   \n",
       "2                                                         NaN   \n",
       "3                                                         NaN   \n",
       "4                                                   45.433732   \n",
       "\n",
       "Indicator Name  Labor force with intermediate education (% of total)  \n",
       "0                                                             NaN     \n",
       "1                                                       64.638529     \n",
       "2                                                             NaN     \n",
       "3                                                             NaN     \n",
       "4                                                       60.104139     "
      ]
     },
     "execution_count": 4,
     "metadata": {},
     "output_type": "execute_result"
    }
   ],
   "source": [
    "# selection des continents et groupes de pays pour l'analyse :\n",
    "data_cont = data.loc[data['Country Code'].isin(['ARB','EAS','ECS','EUU','GRB','LCN','MEA','NAC'])]\n",
    "\n",
    "# visualisation des indicateurs pertinents \n",
    "data_cont['Indicator Name'].value_counts()\n",
    "\n",
    "# selection des indicateurs pertinents\n",
    "data_cont1 = data_cont.loc[data_cont['Indicator Code'].isin(['SL.TLF.BASC.ZS','IT.NET.USER.P2','NY.GDP.PCAP.CD','SL.TLF.INTM.ZS','NY.GDP.MKTP.PP.CD'])]\n",
    "\n",
    "# je met ensuite les indicateurs en colonnes avec un pivot pour mieux visualiser \n",
    "data_cont_all = data_cont1.pivot('Country Code',columns='Indicator Name', values='value')\n",
    "data_cont_all = data_cont_all.reset_index()\n",
    "data_cont_all"
   ]
  },
  {
   "cell_type": "code",
   "execution_count": 13,
   "metadata": {},
   "outputs": [
    {
     "data": {
      "image/png": "[encoded data removed]",
      "text/plain": [
       "<Figure size 432x288 with 1 Axes>"
      ]
     },
     "metadata": {
      "needs_background": "light"
     },
     "output_type": "display_data"
    }
   ],
   "source": [
    "# on pourrait considerer que au dela de 60% le continent ou le groupe de pays peut etre interessant a cibler\n",
    "a= sns.barplot(x='Country Code',y='Internet users (per 100 people)',data=data_cont_all)"
   ]
  },
  {
   "cell_type": "code",
   "execution_count": 19,
   "metadata": {},
   "outputs": [
    {
     "data": {
      "image/png": "[encoded data removed]",
      "text/plain": [
       "<Figure size 432x288 with 1 Axes>"
      ]
     },
     "metadata": {
      "needs_background": "light"
     },
     "output_type": "display_data"
    }
   ],
   "source": [
    "\n",
    "b= sns.barplot(x='Country Code',y='GDP per capita (current US$)',data=data_cont_all)"
   ]
  },
  {
   "cell_type": "markdown",
   "metadata": {},
   "source": [
    "# Conclusion pour les continents et groupes de pays "
   ]
  },
  {
   "cell_type": "markdown",
   "metadata": {},
   "source": [
    "### De ces 2 graphiques on peut remarquer que les 3 continents ou groupes de pays les plus interessants sont : North America, Europe and Central Asia, Latina America avec un taux d'acces a internet de plus de 70% et un PIB elevée pour financer les formations"
   ]
  },
  {
   "cell_type": "markdown",
   "metadata": {},
   "source": [
    "# Visualisation et Analyse des données pour les pays "
   ]
  },
  {
   "cell_type": "code",
   "execution_count": 6,
   "metadata": {},
   "outputs": [
    {
     "data": {
      "text/plain": [
       "241"
      ]
     },
     "execution_count": 6,
     "metadata": {},
     "output_type": "execute_result"
    },
    {
     "data": {
      "text/plain": [
       "Text(0.5, 1.0, \"Fréquence d'apparitions des pays\")"
      ]
     },
     "execution_count": 6,
     "metadata": {},
     "output_type": "execute_result"
    },
    {
     "data": {
      "text/plain": [
       "Text(0.5, 0, 'pays unique')"
      ]
     },
     "execution_count": 6,
     "metadata": {},
     "output_type": "execute_result"
    },
    {
     "data": {
      "text/plain": [
       "<matplotlib.axes._subplots.AxesSubplot at 0x209092d5048>"
      ]
     },
     "execution_count": 6,
     "metadata": {},
     "output_type": "execute_result"
    },
    {
     "data": {
      "text/plain": [
       "Text(16.0, 0.5, 'fréquence')"
      ]
     },
     "execution_count": 6,
     "metadata": {},
     "output_type": "execute_result"
    },
    {
     "data": {
      "text/plain": [
       "count     241.000000\n",
       "mean      543.809129\n",
       "std       297.507641\n",
       "min         1.000000\n",
       "25%       295.000000\n",
       "50%       646.000000\n",
       "75%       761.000000\n",
       "max      1222.000000\n",
       "Name: Country Code, dtype: float64"
      ]
     },
     "execution_count": 6,
     "metadata": {},
     "output_type": "execute_result"
    },
    {
     "data": {
      "image/png": "[encoded data removed]",
      "text/plain": [
       "<Figure size 432x288 with 1 Axes>"
      ]
     },
     "metadata": {
      "needs_background": "light"
     },
     "output_type": "display_data"
    }
   ],
   "source": [
    "\n",
    "# on voit qu'il ya 241 pays uniques\n",
    "alpha = data['Country Code'].unique()\n",
    "alpha.size\n",
    "\n",
    "# on plot le graphe pour voir la féquence d'apparition des pays\n",
    "plt.title(\"Fréquence d'apparitions des pays\") \n",
    "beta = data['Country Code'].value_counts()\n",
    "plt.xlabel(\"pays unique\")\n",
    "\n",
    "sns.barplot(x=alpha,y=beta,data=data)\n",
    "plt.tight_layout() \n",
    "plt.ylabel(\"fréquence\")\n",
    "\n",
    "# les statistiques descriptives et le graphe nous confirme que 75% des données ont une fréquence d'apparition elevéé et seulement 25% ont une fréquence faible\n",
    "# donc on peut se permettre d'enelver les 25% de données qui ont une faible apparition.\n",
    "data['Country Code'].value_counts().describe()\n",
    "\n",
    "#Je choisis donc de prendre seulement les pays avec une fréquence d'apparitions de 500 et plus pour prendre la majeur partie de nos données\n",
    "test=data.groupby('Country Code').filter(lambda x: x['Country Code'].size>=500)"
   ]
  },
  {
   "cell_type": "markdown",
   "metadata": {},
   "source": [
    "# Prise de decision et utilisation des statistiques "
   ]
  },
  {
   "cell_type": "code",
   "execution_count": 7,
   "metadata": {},
   "outputs": [
    {
     "data": {
      "text/plain": [
       "count    2050.000000\n",
       "mean       58.191707\n",
       "std        68.269210\n",
       "min         1.000000\n",
       "10%         1.000000\n",
       "50%         8.000000\n",
       "70%        93.000000\n",
       "73%       151.000000\n",
       "max       164.000000\n",
       "Name: Indicator Code, dtype: float64"
      ]
     },
     "execution_count": 7,
     "metadata": {},
     "output_type": "execute_result"
    },
    {
     "data": {
      "text/plain": [
       "Population growth (annual %)                                          232\n",
       "Population, total                                                     232\n",
       "Internet users (per 100 people)                                       223\n",
       "Population, ages 15-64 (% of total)                                   218\n",
       "GDP per capita (current US$)                                          218\n",
       "                                                                     ... \n",
       "Enrolment in secondary general, both sexes (number)                   146\n",
       "Prevalence of HIV, total (% of population ages 15-49)                 144\n",
       "Enrolment in pre-primary education, both sexes (number)               142\n",
       "Percentage of students in pre-primary education who are female (%)    142\n",
       "Enrolment in pre-primary education, female (number)                   142\n",
       "Name: Indicator Name, Length: 565, dtype: int64"
      ]
     },
     "execution_count": 7,
     "metadata": {},
     "output_type": "execute_result"
    }
   ],
   "source": [
    "\n",
    "# avec ces statistiques on remarque que la pluspart des indicateurs n'ont aucun interet car 70% des indicateurs\n",
    "# se sont repetés moins de 100 fois (voir le Describe en bas)\n",
    "test['Indicator Code'].value_counts().describe(percentiles  = [.10, .70, .73])\n",
    "\n",
    "# Donc je decide de prendre seulements les 20 a 25% restant qui se sont repetés suffisament de fois car les autres on ne pourra de toute facon pas les utiliser,cela est impossible\n",
    "test=data.groupby('Indicator Code').filter(lambda x: x['Indicator Code'].size>140)\n",
    "\n",
    "#je visualise ensuite les indicateurs manuellement pour en selectionner quelqu'uns les plus pertinants \n",
    "test['Indicator Name'].value_counts()\n"
   ]
  },
  {
   "cell_type": "markdown",
   "metadata": {},
   "source": [
    "# Selection des indicateurs pertinents "
   ]
  },
  {
   "cell_type": "code",
   "execution_count": 8,
   "metadata": {},
   "outputs": [
    {
     "data": {
      "text/plain": [
       "<matplotlib.axes._subplots.AxesSubplot at 0x20906d184c8>"
      ]
     },
     "execution_count": 8,
     "metadata": {},
     "output_type": "execute_result"
    },
    {
     "data": {
      "text/html": [
       "<div>\n",
       "<style scoped>\n",
       "    .dataframe tbody tr th:only-of-type {\n",
       "        vertical-align: middle;\n",
       "    }\n",
       "\n",
       "    .dataframe tbody tr th {\n",
       "        vertical-align: top;\n",
       "    }\n",
       "\n",
       "    .dataframe thead th {\n",
       "        text-align: right;\n",
       "    }\n",
       "</style>\n",
       "<table border=\"1\" class=\"dataframe\">\n",
       "  <thead>\n",
       "    <tr style=\"text-align: right;\">\n",
       "      <th>Indicator Name</th>\n",
       "      <th>Country Code</th>\n",
       "      <th>Enrolment in secondary general, both sexes (number)</th>\n",
       "      <th>GDP per capita (current US$)</th>\n",
       "      <th>Internet users (per 100 people)</th>\n",
       "      <th>Population of the official age for secondary education, both sexes (number)</th>\n",
       "      <th>Population, ages 15-24, total</th>\n",
       "      <th>Population, total</th>\n",
       "      <th>Wittgenstein Projection: Population in thousands by highest level of educational attainment. Post Secondary. Total</th>\n",
       "      <th>Wittgenstein Projection: Population in thousands by highest level of educational attainment. Upper Secondary. Total</th>\n",
       "    </tr>\n",
       "  </thead>\n",
       "  <tbody>\n",
       "    <tr>\n",
       "      <th>0</th>\n",
       "      <td>ABW</td>\n",
       "      <td>NaN</td>\n",
       "      <td>NaN</td>\n",
       "      <td>88.661227</td>\n",
       "      <td>7408.0</td>\n",
       "      <td>14455.0</td>\n",
       "      <td>104341.0</td>\n",
       "      <td>20.46</td>\n",
       "      <td>12.02</td>\n",
       "    </tr>\n",
       "    <tr>\n",
       "      <th>1</th>\n",
       "      <td>AFG</td>\n",
       "      <td>2671830.0</td>\n",
       "      <td>569.577923</td>\n",
       "      <td>8.260000</td>\n",
       "      <td>4850112.0</td>\n",
       "      <td>7252785.0</td>\n",
       "      <td>33736494.0</td>\n",
       "      <td>NaN</td>\n",
       "      <td>NaN</td>\n",
       "    </tr>\n",
       "    <tr>\n",
       "      <th>2</th>\n",
       "      <td>AGO</td>\n",
       "      <td>NaN</td>\n",
       "      <td>3695.793748</td>\n",
       "      <td>12.400000</td>\n",
       "      <td>3562398.0</td>\n",
       "      <td>4259352.0</td>\n",
       "      <td>27859305.0</td>\n",
       "      <td>NaN</td>\n",
       "      <td>NaN</td>\n",
       "    </tr>\n",
       "    <tr>\n",
       "      <th>3</th>\n",
       "      <td>ALB</td>\n",
       "      <td>287812.0</td>\n",
       "      <td>3934.895394</td>\n",
       "      <td>63.252933</td>\n",
       "      <td>329011.0</td>\n",
       "      <td>556269.0</td>\n",
       "      <td>2880703.0</td>\n",
       "      <td>218.90</td>\n",
       "      <td>1030.33</td>\n",
       "    </tr>\n",
       "    <tr>\n",
       "      <th>4</th>\n",
       "      <td>AND</td>\n",
       "      <td>4004.0</td>\n",
       "      <td>36038.267604</td>\n",
       "      <td>96.910000</td>\n",
       "      <td>NaN</td>\n",
       "      <td>NaN</td>\n",
       "      <td>78014.0</td>\n",
       "      <td>NaN</td>\n",
       "      <td>NaN</td>\n",
       "    </tr>\n",
       "  </tbody>\n",
       "</table>\n",
       "</div>"
      ],
      "text/plain": [
       "Indicator Name Country Code  \\\n",
       "0                       ABW   \n",
       "1                       AFG   \n",
       "2                       AGO   \n",
       "3                       ALB   \n",
       "4                       AND   \n",
       "\n",
       "Indicator Name  Enrolment in secondary general, both sexes (number)  \\\n",
       "0                                                             NaN     \n",
       "1                                                       2671830.0     \n",
       "2                                                             NaN     \n",
       "3                                                        287812.0     \n",
       "4                                                          4004.0     \n",
       "\n",
       "Indicator Name  GDP per capita (current US$)  Internet users (per 100 people)  \\\n",
       "0                                        NaN                        88.661227   \n",
       "1                                 569.577923                         8.260000   \n",
       "2                                3695.793748                        12.400000   \n",
       "3                                3934.895394                        63.252933   \n",
       "4                               36038.267604                        96.910000   \n",
       "\n",
       "Indicator Name  Population of the official age for secondary education, both sexes (number)  \\\n",
       "0                                                          7408.0                             \n",
       "1                                                       4850112.0                             \n",
       "2                                                       3562398.0                             \n",
       "3                                                        329011.0                             \n",
       "4                                                             NaN                             \n",
       "\n",
       "Indicator Name  Population, ages 15-24, total  Population, total  \\\n",
       "0                                     14455.0           104341.0   \n",
       "1                                   7252785.0         33736494.0   \n",
       "2                                   4259352.0         27859305.0   \n",
       "3                                    556269.0          2880703.0   \n",
       "4                                         NaN            78014.0   \n",
       "\n",
       "Indicator Name  Wittgenstein Projection: Population in thousands by highest level of educational attainment. Post Secondary. Total  \\\n",
       "0                                                           20.46                                                                    \n",
       "1                                                             NaN                                                                    \n",
       "2                                                             NaN                                                                    \n",
       "3                                                          218.90                                                                    \n",
       "4                                                             NaN                                                                    \n",
       "\n",
       "Indicator Name  Wittgenstein Projection: Population in thousands by highest level of educational attainment. Upper Secondary. Total  \n",
       "0                                                           12.02                                                                    \n",
       "1                                                             NaN                                                                    \n",
       "2                                                             NaN                                                                    \n",
       "3                                                         1030.33                                                                    \n",
       "4                                                             NaN                                                                    "
      ]
     },
     "execution_count": 8,
     "metadata": {},
     "output_type": "execute_result"
    },
    {
     "data": {
      "image/png": "[encoded data removed]",
      "text/plain": [
       "<Figure size 432x288 with 1 Axes>"
      ]
     },
     "metadata": {
      "needs_background": "light"
     },
     "output_type": "display_data"
    }
   ],
   "source": [
    "#Je selectionne les indicateurs interessants \n",
    "\n",
    "test = data.loc[data['Indicator Code'].isin(['SP.POP.TOTL', 'IT.NET.USER.P2','SP.SEC.TOTL.IN',\n",
    "                                         'NY.GDP.PCAP.CD','SP.SEC.TOTL.IN','SE.SEC.ENRL.GC',\n",
    "                                         'SP.POP.1524.TO.UN','PRJ.POP.ALL.3.MF','PRJ.POP.ALL.4.MF'])]\n",
    "\n",
    "# j'ai effectuer un pivot pour avoir les indicateurs en colonnes \n",
    "test2 = test.pivot('Country Code',columns='Indicator Name', values='value')\n",
    "test2 = test2.reset_index()\n",
    "\n",
    "#Comme j'ai 9 indicateurs je supprime les pays qui ont plus de 5 indicateurs de valeurs ( NaN)\n",
    "test2 = test2.dropna(thresh=5)\n",
    "\n",
    "#avec ce graphe on remarque une correlation trés forte entre le PIB et les utilisateurs d'internet, cela veut dire l'un de ces indicateurs nous suffit a lui seul, donc\n",
    "# on supprime seulement les lignes ou les 2 indicateurs sont absents au meme temps car cela nous empeche completement d'etudier le pays \n",
    "sns.stripplot(x = 'GDP per capita (current US$)',y = 'Internet users (per 100 people)',data = test2)\n",
    "\n",
    "#je supprime les lignes ou les 2 indicateurs (PIB et internet users) sont absents au meme temps ( Excellent)\n",
    "test2.dropna(subset = ['GDP per capita (current US$)','Internet users (per 100 people)'],thresh=1,inplace=True)\n",
    "\n",
    "\n",
    "test2.sort_values('Country Code').head(5)"
   ]
  },
  {
   "cell_type": "markdown",
   "metadata": {},
   "source": [
    "# filtrage des données selon nos besoins"
   ]
  },
  {
   "cell_type": "code",
   "execution_count": 9,
   "metadata": {},
   "outputs": [
    {
     "data": {
      "text/plain": [
       "<matplotlib.axes._subplots.AxesSubplot at 0x2097333a988>"
      ]
     },
     "execution_count": 9,
     "metadata": {},
     "output_type": "execute_result"
    },
    {
     "data": {
      "text/html": [
       "<div>\n",
       "<style scoped>\n",
       "    .dataframe tbody tr th:only-of-type {\n",
       "        vertical-align: middle;\n",
       "    }\n",
       "\n",
       "    .dataframe tbody tr th {\n",
       "        vertical-align: top;\n",
       "    }\n",
       "\n",
       "    .dataframe thead th {\n",
       "        text-align: right;\n",
       "    }\n",
       "</style>\n",
       "<table border=\"1\" class=\"dataframe\">\n",
       "  <thead>\n",
       "    <tr style=\"text-align: right;\">\n",
       "      <th>Indicator Name</th>\n",
       "      <th>Country Code</th>\n",
       "      <th>Enrolment in secondary general, both sexes (number)</th>\n",
       "      <th>GDP per capita (current US$)</th>\n",
       "      <th>Internet users (per 100 people)</th>\n",
       "      <th>Population of the official age for secondary education, both sexes (number)</th>\n",
       "      <th>Population, ages 15-24, total</th>\n",
       "      <th>Population, total</th>\n",
       "      <th>Wittgenstein Projection: Population in thousands by highest level of educational attainment. Post Secondary. Total</th>\n",
       "      <th>Wittgenstein Projection: Population in thousands by highest level of educational attainment. Upper Secondary. Total</th>\n",
       "    </tr>\n",
       "  </thead>\n",
       "  <tbody>\n",
       "    <tr>\n",
       "      <th>0</th>\n",
       "      <td>ABW</td>\n",
       "      <td>NaN</td>\n",
       "      <td>NaN</td>\n",
       "      <td>88.661227</td>\n",
       "      <td>7408.0</td>\n",
       "      <td>14455.0</td>\n",
       "      <td>104341.0</td>\n",
       "      <td>20.46</td>\n",
       "      <td>12.02</td>\n",
       "    </tr>\n",
       "    <tr>\n",
       "      <th>3</th>\n",
       "      <td>ALB</td>\n",
       "      <td>287812.0</td>\n",
       "      <td>3934.895394</td>\n",
       "      <td>63.252933</td>\n",
       "      <td>329011.0</td>\n",
       "      <td>556269.0</td>\n",
       "      <td>2880703.0</td>\n",
       "      <td>218.90</td>\n",
       "      <td>1030.33</td>\n",
       "    </tr>\n",
       "    <tr>\n",
       "      <th>4</th>\n",
       "      <td>AND</td>\n",
       "      <td>4004.0</td>\n",
       "      <td>36038.267604</td>\n",
       "      <td>96.910000</td>\n",
       "      <td>NaN</td>\n",
       "      <td>NaN</td>\n",
       "      <td>78014.0</td>\n",
       "      <td>NaN</td>\n",
       "      <td>NaN</td>\n",
       "    </tr>\n",
       "    <tr>\n",
       "      <th>5</th>\n",
       "      <td>ARE</td>\n",
       "      <td>NaN</td>\n",
       "      <td>39101.746890</td>\n",
       "      <td>90.500000</td>\n",
       "      <td>525697.0</td>\n",
       "      <td>743608.0</td>\n",
       "      <td>9154302.0</td>\n",
       "      <td>1315.87</td>\n",
       "      <td>2768.80</td>\n",
       "    </tr>\n",
       "    <tr>\n",
       "      <th>6</th>\n",
       "      <td>ARG</td>\n",
       "      <td>NaN</td>\n",
       "      <td>13467.102357</td>\n",
       "      <td>68.043064</td>\n",
       "      <td>4204388.0</td>\n",
       "      <td>6886530.0</td>\n",
       "      <td>43417765.0</td>\n",
       "      <td>4106.84</td>\n",
       "      <td>10117.63</td>\n",
       "    </tr>\n",
       "  </tbody>\n",
       "</table>\n",
       "</div>"
      ],
      "text/plain": [
       "Indicator Name Country Code  \\\n",
       "0                       ABW   \n",
       "3                       ALB   \n",
       "4                       AND   \n",
       "5                       ARE   \n",
       "6                       ARG   \n",
       "\n",
       "Indicator Name  Enrolment in secondary general, both sexes (number)  \\\n",
       "0                                                             NaN     \n",
       "3                                                        287812.0     \n",
       "4                                                          4004.0     \n",
       "5                                                             NaN     \n",
       "6                                                             NaN     \n",
       "\n",
       "Indicator Name  GDP per capita (current US$)  Internet users (per 100 people)  \\\n",
       "0                                        NaN                        88.661227   \n",
       "3                                3934.895394                        63.252933   \n",
       "4                               36038.267604                        96.910000   \n",
       "5                               39101.746890                        90.500000   \n",
       "6                               13467.102357                        68.043064   \n",
       "\n",
       "Indicator Name  Population of the official age for secondary education, both sexes (number)  \\\n",
       "0                                                          7408.0                             \n",
       "3                                                        329011.0                             \n",
       "4                                                             NaN                             \n",
       "5                                                        525697.0                             \n",
       "6                                                       4204388.0                             \n",
       "\n",
       "Indicator Name  Population, ages 15-24, total  Population, total  \\\n",
       "0                                     14455.0           104341.0   \n",
       "3                                    556269.0          2880703.0   \n",
       "4                                         NaN            78014.0   \n",
       "5                                    743608.0          9154302.0   \n",
       "6                                   6886530.0         43417765.0   \n",
       "\n",
       "Indicator Name  Wittgenstein Projection: Population in thousands by highest level of educational attainment. Post Secondary. Total  \\\n",
       "0                                                           20.46                                                                    \n",
       "3                                                          218.90                                                                    \n",
       "4                                                             NaN                                                                    \n",
       "5                                                         1315.87                                                                    \n",
       "6                                                         4106.84                                                                    \n",
       "\n",
       "Indicator Name  Wittgenstein Projection: Population in thousands by highest level of educational attainment. Upper Secondary. Total  \n",
       "0                                                           12.02                                                                    \n",
       "3                                                         1030.33                                                                    \n",
       "4                                                             NaN                                                                    \n",
       "5                                                         2768.80                                                                    \n",
       "6                                                        10117.63                                                                    "
      ]
     },
     "execution_count": 9,
     "metadata": {},
     "output_type": "execute_result"
    },
    {
     "data": {
      "image/png": "[encoded data removed]",
      "text/plain": [
       "<Figure size 432x288 with 1 Axes>"
      ]
     },
     "metadata": {
      "needs_background": "light"
     },
     "output_type": "display_data"
    }
   ],
   "source": [
    "sns.distplot(test2['Internet users (per 100 people)'],kde=False)\n",
    "# cet histograme nous indique que 50% des pays present ont plus de 50/100 personnes qui ont accés a internet \n",
    "# L'accés a internet est une variable extrement importante pour notre cas on selectionne donc les pays qui ont 50/100 personnes au minimum qui ont accés a internet \n",
    "\n",
    "test3 = test2.loc[test2['Internet users (per 100 people)']>=50]\n",
    "test3.head(5)"
   ]
  },
  {
   "cell_type": "code",
   "execution_count": 10,
   "metadata": {},
   "outputs": [
    {
     "data": {
      "text/plain": [
       "<matplotlib.axes._subplots.AxesSubplot at 0x209080a7a48>"
      ]
     },
     "execution_count": 10,
     "metadata": {},
     "output_type": "execute_result"
    },
    {
     "data": {
      "text/plain": [
       "Text(0.5, 1.0, 'Les pays en fonction de la population agées entre 15-24 ')"
      ]
     },
     "execution_count": 10,
     "metadata": {},
     "output_type": "execute_result"
    },
    {
     "data": {
      "text/plain": [
       "Text(0, 0.5, 'Pourcentage 15-24')"
      ]
     },
     "execution_count": 10,
     "metadata": {},
     "output_type": "execute_result"
    },
    {
     "data": {
      "text/plain": [
       "Text(0.5, 0, 'pays')"
      ]
     },
     "execution_count": 10,
     "metadata": {},
     "output_type": "execute_result"
    },
    {
     "data": {
      "text/plain": [
       "count    84.000000\n",
       "mean     13.587298\n",
       "std       3.263690\n",
       "min       5.213619\n",
       "25%      11.401941\n",
       "50%      12.940132\n",
       "75%      15.896468\n",
       "max      23.812075\n",
       "dtype: float64"
      ]
     },
     "execution_count": 10,
     "metadata": {},
     "output_type": "execute_result"
    },
    {
     "data": {
      "image/png": "[encoded data removed]",
      "text/plain": [
       "<Figure size 432x288 with 1 Axes>"
      ]
     },
     "metadata": {
      "needs_background": "light"
     },
     "output_type": "display_data"
    }
   ],
   "source": [
    "# Il reste a trier les pays en fonction du pourcentage de la population agées entre 15 et 24 ans \n",
    "percentage_1524 = (test3['Population, ages 15-24, total']*100)/test3['Population, total']\n",
    "# percentage_1524\n",
    "sns.stripplot(x=test3['Country Code'],y= percentage_1524)\n",
    "plt.title(\"Les pays en fonction de la population agées entre 15-24 \")\n",
    "plt.ylabel(\"Pourcentage 15-24\")\n",
    "plt.xlabel(\"pays\")\n",
    "\n",
    "#test statistiques pour voir en pourcetage combien de pays ont le gros pourcentage de population agées entre 15 et 24 ans \n",
    "percentage_1524.describe()"
   ]
  },
  {
   "cell_type": "markdown",
   "metadata": {},
   "source": [
    "# Conclusion"
   ]
  },
  {
   "cell_type": "code",
   "execution_count": 11,
   "metadata": {},
   "outputs": [
    {
     "name": "stderr",
     "output_type": "stream",
     "text": [
      "E:\\idm\\ANACONDA\\envs\\notebook_main\\lib\\site-packages\\ipykernel_launcher.py:2: SettingWithCopyWarning: \n",
      "A value is trying to be set on a copy of a slice from a DataFrame.\n",
      "Try using .loc[row_indexer,col_indexer] = value instead\n",
      "\n",
      "See the caveats in the documentation: http://pandas.pydata.org/pandas-docs/stable/user_guide/indexing.html#returning-a-view-versus-a-copy\n",
      "  \n"
     ]
    },
    {
     "data": {
      "text/plain": [
       "array(['ABW', 'ALB', 'ARG', 'ARM', 'AUS', 'AUT', 'AZE', 'BEL', 'BHS',\n",
       "       'BIH', 'BLR', 'BRA', 'BRB', 'BRN', 'CAN', 'CHE', 'CHL', 'CHN',\n",
       "       'COL', 'CRI', 'DNK', 'DOM', 'FIN', 'FRA', 'GBR', 'GRD', 'HKG',\n",
       "       'HRV', 'HUN', 'IRL', 'ISL', 'ISR', 'JOR', 'KAZ', 'KOR', 'KWT',\n",
       "       'LBN', 'LTU', 'LUX', 'LVA', 'MAR', 'MDA', 'MDV', 'MEX', 'MKD',\n",
       "       'MLT', 'MUS', 'MYS', 'NLD', 'NOR', 'NZL', 'OMN', 'PAN', 'PHL',\n",
       "       'POL', 'PRT', 'PSE', 'ROU', 'SAU', 'SGP', 'SVK', 'SWE', 'TTO',\n",
       "       'TUR', 'URY', 'USA', 'VCT', 'VEN', 'ZAF'], dtype=object)"
      ]
     },
     "execution_count": 11,
     "metadata": {},
     "output_type": "execute_result"
    }
   ],
   "source": [
    "#en se basant sur les statistiques descriptives Pour des raisons de marketing et de budget on decide de selectionner seulements les pays qui ont plus de 11% de population entre 15 et 24 ans \n",
    "test3['%_pop_1524'] = percentage_1524\n",
    "test4 = test3.loc[test3['%_pop_1524']>11]\n",
    "\n",
    "\n",
    "# Voici les pays qui avec le plus fort potentiels de clients ils ont ( l'argent, internet, population 15-24 >10% de la pop total)\n",
    "test4['Country Code'].unique()"
   ]
  }
 ],
 "metadata": {
  "kernelspec": {
   "display_name": "Python 3",
   "language": "python",
   "name": "python3"
  },
  "language_info": {
   "codemirror_mode": {
    "name": "ipython",
    "version": 3
   },
   "file_extension": ".py",
   "mimetype": "text/x-python",
   "name": "python",
   "nbconvert_exporter": "python",
   "pygments_lexer": "ipython3",
   "version": "3.7.5"
  }
 },
 "nbformat": 4,
 "nbformat_minor": 4
}
